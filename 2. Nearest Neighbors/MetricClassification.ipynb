{
 "cells": [
  {
   "cell_type": "code",
   "execution_count": 449,
   "metadata": {
    "collapsed": false
   },
   "outputs": [],
   "source": [
    "%matplotlib inline\n",
    "import numpy as np\n",
    "import sklearn.neighbors\n",
    "from sklearn.datasets.mldata import fetch_mldata\n",
    "import matplotlib.pyplot as plt\n",
    "from scipy import stats\n",
    "from sklearn.metrics import accuracy_score, confusion_matrix\n",
    "import time\n",
    "import re\n",
    "from scipy.sparse import csr_matrix\n",
    "from sklearn.feature_extraction.text import TfidfTransformer"
   ]
  },
  {
   "cell_type": "markdown",
   "metadata": {},
   "source": [
    "#MNIST"
   ]
  },
  {
   "cell_type": "markdown",
   "metadata": {},
   "source": [
    "В данной части ноутбука приводится решение части задания, связанной с набором данных MNIST."
   ]
  },
  {
   "cell_type": "markdown",
   "metadata": {},
   "source": [
    "## Загрузка и визуализация данных"
   ]
  },
  {
   "cell_type": "markdown",
   "metadata": {},
   "source": [
    "Загружаем набор данных mnist."
   ]
  },
  {
   "cell_type": "code",
   "execution_count": 2,
   "metadata": {
    "collapsed": false
   },
   "outputs": [],
   "source": [
    "mnist = fetch_mldata(\"MNIST original\")"
   ]
  },
  {
   "cell_type": "markdown",
   "metadata": {},
   "source": [
    "Разбиваем на обучающую и тестовую выборки"
   ]
  },
  {
   "cell_type": "code",
   "execution_count": 3,
   "metadata": {
    "collapsed": false
   },
   "outputs": [],
   "source": [
    "y_train = mnist.target[:60000]\n",
    "x_train = mnist.data[:60000, :]\n",
    "y_test = mnist.target[60000:]\n",
    "x_test = mnist.data[60000:, :]"
   ]
  },
  {
   "cell_type": "markdown",
   "metadata": {},
   "source": [
    "Визуализируем по пять случайных объектов из обучающей выборки для каждого из десяти классов"
   ]
  },
  {
   "cell_type": "code",
   "execution_count": 15,
   "metadata": {
    "collapsed": false
   },
   "outputs": [
    {
     "data": {
      "image/png": "[encoded data removed]",
      "text/plain": [
       "<matplotlib.figure.Figure at 0x10c963da0>"
      ]
     },
     "metadata": {},
     "output_type": "display_data"
    }
   ],
   "source": [
    "fig = plt.figure()\n",
    "for j in range(10):\n",
    "    x_j = x_train[y_train == j, :]\n",
    "    for i in range(5):\n",
    "        np.random.seed(i)\n",
    "        a=fig.add_subplot(10, 5, 5 *j + i+1)\n",
    "        plt.imshow(x_j[np.random.randint(x_j.shape[0], size=1), :].reshape((28, 28)), cmap=\"Greys\")\n",
    "        plt.axis(\"off\")"
   ]
  },
  {
   "cell_type": "markdown",
   "metadata": {
    "collapsed": true
   },
   "source": [
    "## Сравнение точных алгоритмов KNN"
   ]
  },
  {
   "cell_type": "markdown",
   "metadata": {},
   "source": [
    "### Собственная реализация KNN"
   ]
  },
  {
   "cell_type": "markdown",
   "metadata": {},
   "source": [
    "Класс k_neigbour_classifier, реализует алгоритм классификации методом k ближайших соседей. Его конструктор принимает на вход функцию distance, возвращающую матрицу попарных расстояний между двумя выборками объектов, и число соседей num_neigbors.\n",
    "\n",
    "Функция predict() получает на вход массивы train_x и train_y, состоящие из объектов обучающей выборки и соответствующих им меток классов, а также массив test_x, состоящий из объектов тестовой выборки. "
   ]
  },
  {
   "cell_type": "code",
   "execution_count": 22,
   "metadata": {
    "collapsed": true
   },
   "outputs": [],
   "source": [
    "class  k_neighbour_classifier:\n",
    "    def __init__(self, distance, num_neigbours):\n",
    "        self.dist = distance\n",
    "        self.k = num_neigbours\n",
    "        \n",
    "    def find_nearest_neighbors(self, train_x, test_x):\n",
    "        distance_matrix = self.dist(test_x, train_x)\n",
    "        args = np.argsort(distance_matrix, axis=1)[:, :self.k]\n",
    "        return args\n",
    "        \n",
    "    def predict(self, train_x, train_y, test_x):\n",
    "        \"\"\"Returns predicted labels at test data points\"\"\"\n",
    "        args = self.find_nearest_neighbors(train_x, test_x).flatten()\n",
    "        y_indices_list = np.hstack([np.arange(test_x.shape[0])[:, None]] * self.k).ravel()\n",
    "        labels_matrix = np.vstack([train_y]*test_x.shape[0])\n",
    "        sorted_dist_labels_matrix = np.array(np.hsplit(labels_matrix[y_indices_list, args], test_x.shape[0]))\n",
    "        return stats.mode(sorted_dist_labels_matrix, axis=1)[0].flatten()"
   ]
  },
  {
   "cell_type": "markdown",
   "metadata": {},
   "source": [
    "Функция dist возвращает матрицу квадратов попарных евклидовых расстояний между двумя переданными ей матрицами x_1 и x_2."
   ]
  },
  {
   "cell_type": "code",
   "execution_count": 70,
   "metadata": {
    "collapsed": true
   },
   "outputs": [],
   "source": [
    "def dist(x1, x2):\n",
    "    x1_norm = np.linalg.norm(x1, axis=1)[:, None]\n",
    "    x2_norm = np.linalg.norm(x2, axis=1)[None, :]\n",
    "    return np.square(x1_norm) + np.square(x2_norm) - 2 * x1.dot(x2.T)"
   ]
  },
  {
   "cell_type": "markdown",
   "metadata": {},
   "source": [
    "###Эксперименты"
   ]
  },
  {
   "cell_type": "markdown",
   "metadata": {},
   "source": [
    "Проведем сравнение точных алгоритмов классификации методом KNN. Сравнение будем проводить по точности и по времени работы. Во всех экспериментах число соседей k = 5. При этом в каждом эксперименте случайным образом выбирается определенное число признаков, которые используются в методе KNN."
   ]
  },
  {
   "cell_type": "markdown",
   "metadata": {},
   "source": [
    "####10 случайных признаков"
   ]
  },
  {
   "cell_type": "markdown",
   "metadata": {},
   "source": [
    "Выберем 10 случайных признаков"
   ]
  },
  {
   "cell_type": "code",
   "execution_count": 31,
   "metadata": {
    "collapsed": false
   },
   "outputs": [],
   "source": [
    "np.random.seed(10)\n",
    "features = np.random.randint(x_train.shape[1], size=10)\n",
    "while len(set(features)) != 10:\n",
    "    features = np.array(list(set(features)))\n",
    "    np.random.seed(i)\n",
    "    i+=1\n",
    "    features = np.append(features, np.random.randint(x_train.shape[1]))\n",
    "x_train_ten = x_train[:, features]\n",
    "x_test_ten = x_test[:, features]"
   ]
  },
  {
   "cell_type": "markdown",
   "metadata": {},
   "source": [
    "#####Собственная реализация"
   ]
  },
  {
   "cell_type": "code",
   "execution_count": 71,
   "metadata": {
    "collapsed": false
   },
   "outputs": [],
   "source": [
    "knn = k_neighbour_classifier(dist, 5)\n",
    "start_ten = time.time()\n",
    "knn.find_nearest_neighbors(x_train_ten, x_test_ten)\n",
    "finish_ten = time.time()"
   ]
  },
  {
   "cell_type": "code",
   "execution_count": 72,
   "metadata": {
    "collapsed": false
   },
   "outputs": [
    {
     "name": "stdout",
     "output_type": "stream",
     "text": [
      "Собственная реализация KNN для 10 признаков работает 101.38 секунды.\n"
     ]
    }
   ],
   "source": [
    "print(\"Собственная реализация KNN для 10 признаков работает\", \"%.2f\" %(finish_ten - start_ten), \"секунды.\")"
   ]
  },
  {
   "cell_type": "markdown",
   "metadata": {},
   "source": [
    "#####Алгоритм brute"
   ]
  },
  {
   "cell_type": "code",
   "execution_count": 37,
   "metadata": {
    "collapsed": false
   },
   "outputs": [],
   "source": [
    "knn_brute = sklearn.neighbors.NearestNeighbors(n_neighbors=5, algorithm=\"brute\")\n",
    "start_brute_ten = time.time()\n",
    "knn_brute.fit(x_train_ten)\n",
    "knn_brute.kneighbors(x_test_ten)\n",
    "finish_brute_ten = time.time()"
   ]
  },
  {
   "cell_type": "code",
   "execution_count": 38,
   "metadata": {
    "collapsed": false
   },
   "outputs": [
    {
     "name": "stdout",
     "output_type": "stream",
     "text": [
      "brute-версия KNN для 10 признаков работает 18.88 секунды.\n"
     ]
    }
   ],
   "source": [
    "print(\"brute-версия KNN для 10 признаков работает\", \"%.2f\" %(finish_brute_ten - start_brute_ten), \"секунды.\")"
   ]
  },
  {
   "cell_type": "markdown",
   "metadata": {},
   "source": [
    "#####Алгоритм kd_tree"
   ]
  },
  {
   "cell_type": "code",
   "execution_count": 39,
   "metadata": {
    "collapsed": false
   },
   "outputs": [],
   "source": [
    "knn_kd = sklearn.neighbors.NearestNeighbors(n_neighbors=5, algorithm=\"kd_tree\")\n",
    "start_kd_ten = time.time()\n",
    "knn_kd.fit(x_train_ten)\n",
    "knn_kd.kneighbors(x_test_ten)\n",
    "finish_kd_ten = time.time()"
   ]
  },
  {
   "cell_type": "code",
   "execution_count": 40,
   "metadata": {
    "collapsed": false
   },
   "outputs": [
    {
     "name": "stdout",
     "output_type": "stream",
     "text": [
      "kd_tree-версия KNN для 10 признаков работает 3.26 секунды.\n"
     ]
    }
   ],
   "source": [
    "print(\"kd_tree-версия KNN для 10 признаков работает\", \"%.2f\" %(finish_kd_ten - start_kd_ten), \"секунды.\")"
   ]
  },
  {
   "cell_type": "markdown",
   "metadata": {},
   "source": [
    "#####Алгоритм ball_tree"
   ]
  },
  {
   "cell_type": "code",
   "execution_count": 41,
   "metadata": {
    "collapsed": true
   },
   "outputs": [],
   "source": [
    "knn_ball = sklearn.neighbors.NearestNeighbors(n_neighbors=5, algorithm=\"ball_tree\")\n",
    "start_ball_ten = time.time()\n",
    "knn_ball.fit(x_train_ten)\n",
    "knn_ball.kneighbors(x_test_ten)\n",
    "finish_ball_ten = time.time()"
   ]
  },
  {
   "cell_type": "code",
   "execution_count": 42,
   "metadata": {
    "collapsed": false
   },
   "outputs": [
    {
     "name": "stdout",
     "output_type": "stream",
     "text": [
      "ball_tree-версия KNN для 10 признаков работает 7.46 секунды.\n"
     ]
    }
   ],
   "source": [
    "print(\"ball_tree-версия KNN для 10 признаков работает\", \"%.2f\" %(finish_ball_ten - start_ball_ten), \"секунды.\")"
   ]
  },
  {
   "cell_type": "markdown",
   "metadata": {},
   "source": [
    "####20 случайных признаков"
   ]
  },
  {
   "cell_type": "markdown",
   "metadata": {},
   "source": [
    "Выберем 20 случайных признаков"
   ]
  },
  {
   "cell_type": "code",
   "execution_count": 43,
   "metadata": {
    "collapsed": false
   },
   "outputs": [],
   "source": [
    "np.random.seed(20)\n",
    "features = np.random.randint(x_train.shape[1], size=20)\n",
    "i = 0\n",
    "while len(set(features)) != 20:\n",
    "    features = np.array(list(set(features)))\n",
    "    np.random.seed(i)\n",
    "    i+=1\n",
    "    features = np.append(features, np.random.randint(x_train.shape[1]))\n",
    "x_train_twenty = x_train[:, features]\n",
    "x_test_twenty = x_test[:, features]"
   ]
  },
  {
   "cell_type": "markdown",
   "metadata": {},
   "source": [
    "#####Собственная реализация"
   ]
  },
  {
   "cell_type": "code",
   "execution_count": 44,
   "metadata": {
    "collapsed": false
   },
   "outputs": [],
   "source": [
    "knn = k_neighbour_classifier(dist, 5)\n",
    "start_twenty = time.time()\n",
    "knn.find_nearest_neighbors(x_train_twenty, x_test_twenty)\n",
    "finish_twenty = time.time()"
   ]
  },
  {
   "cell_type": "code",
   "execution_count": 45,
   "metadata": {
    "collapsed": false
   },
   "outputs": [
    {
     "name": "stdout",
     "output_type": "stream",
     "text": [
      "Собственная KNN для 20 признаков работает 98.74 секунды.\n"
     ]
    }
   ],
   "source": [
    "print(\"Собственная KNN для 20 признаков работает\", \"%.2f\" %(finish_twenty - start_twenty), \"секунды.\")"
   ]
  },
  {
   "cell_type": "markdown",
   "metadata": {},
   "source": [
    "#####Алгоритм brute"
   ]
  },
  {
   "cell_type": "code",
   "execution_count": 46,
   "metadata": {
    "collapsed": true
   },
   "outputs": [],
   "source": [
    "knn_brute = sklearn.neighbors.NearestNeighbors(n_neighbors=5, algorithm=\"brute\")\n",
    "start_brute_twenty = time.time()\n",
    "knn_brute.fit(x_train_twenty)\n",
    "knn_brute.kneighbors(x_test_twenty)\n",
    "finish_brute_twenty = time.time()"
   ]
  },
  {
   "cell_type": "code",
   "execution_count": 47,
   "metadata": {
    "collapsed": false
   },
   "outputs": [
    {
     "name": "stdout",
     "output_type": "stream",
     "text": [
      "brute-версия KNN для 20 признаков работает 19.58 секунды.\n"
     ]
    }
   ],
   "source": [
    "print(\"brute-версия KNN для 20 признаков работает\", \"%.2f\" %(finish_brute_twenty - start_brute_twenty), \"секунды.\")"
   ]
  },
  {
   "cell_type": "markdown",
   "metadata": {},
   "source": [
    "#####Алгоритм kd_tree"
   ]
  },
  {
   "cell_type": "code",
   "execution_count": 48,
   "metadata": {
    "collapsed": true
   },
   "outputs": [],
   "source": [
    "knn_kd = sklearn.neighbors.NearestNeighbors(n_neighbors=5, algorithm=\"kd_tree\")\n",
    "start_kd_twenty = time.time()\n",
    "knn_kd.fit(x_train_twenty)\n",
    "knn_kd.kneighbors(x_test_twenty)\n",
    "finish_kd_twenty = time.time()"
   ]
  },
  {
   "cell_type": "code",
   "execution_count": 49,
   "metadata": {
    "collapsed": false
   },
   "outputs": [
    {
     "name": "stdout",
     "output_type": "stream",
     "text": [
      "kd_tree-версия KNN для 20 признаков работает 9.10 секунды.\n"
     ]
    }
   ],
   "source": [
    "print(\"kd_tree-версия KNN для 20 признаков работает\", \"%.2f\" %(finish_kd_twenty - start_kd_twenty), \"секунды.\")"
   ]
  },
  {
   "cell_type": "markdown",
   "metadata": {},
   "source": [
    "#####Алгоритм ball_tree"
   ]
  },
  {
   "cell_type": "code",
   "execution_count": 50,
   "metadata": {
    "collapsed": true
   },
   "outputs": [],
   "source": [
    "knn_ball = sklearn.neighbors.NearestNeighbors(n_neighbors=5, algorithm=\"ball_tree\")\n",
    "start_ball_twenty = time.time()\n",
    "knn_ball.fit(x_train_twenty)\n",
    "knn_ball.kneighbors(x_test_twenty)\n",
    "finish_ball_twenty = time.time()"
   ]
  },
  {
   "cell_type": "code",
   "execution_count": 51,
   "metadata": {
    "collapsed": false
   },
   "outputs": [
    {
     "name": "stdout",
     "output_type": "stream",
     "text": [
      "ball_tree-версия KNN для 20 признаков работает 25.06 секунды.\n"
     ]
    }
   ],
   "source": [
    "print(\"ball_tree-версия KNN для 20 признаков работает\", \"%.2f\" %(finish_ball_twenty - start_ball_twenty), \"секунды.\")"
   ]
  },
  {
   "cell_type": "markdown",
   "metadata": {},
   "source": [
    "####100 признаков\n"
   ]
  },
  {
   "cell_type": "markdown",
   "metadata": {},
   "source": [
    "Выберем 100 случайных признаков"
   ]
  },
  {
   "cell_type": "code",
   "execution_count": 52,
   "metadata": {
    "collapsed": true
   },
   "outputs": [],
   "source": [
    "np.random.seed(100)\n",
    "features = np.random.randint(x_train.shape[1], size=10)\n",
    "while len(set(features)) != 100:\n",
    "    features = np.array(list(set(features)))\n",
    "    np.random.seed(i)\n",
    "    i+=1\n",
    "    features = np.append(features, np.random.randint(x_train.shape[1]))\n",
    "x_train_hundred = x_train[:, features]\n",
    "x_test_hundred = x_test[:, features]"
   ]
  },
  {
   "cell_type": "markdown",
   "metadata": {},
   "source": [
    "#####Собственная реализация"
   ]
  },
  {
   "cell_type": "code",
   "execution_count": 53,
   "metadata": {
    "collapsed": false
   },
   "outputs": [],
   "source": [
    "knn = k_neighbour_classifier(dist, 5)\n",
    "start_hundred = time.time()\n",
    "knn.find_nearest_neighbors(x_train_hundred, x_test_hundred)\n",
    "finish_hundred = time.time()"
   ]
  },
  {
   "cell_type": "code",
   "execution_count": 54,
   "metadata": {
    "collapsed": false
   },
   "outputs": [
    {
     "name": "stdout",
     "output_type": "stream",
     "text": [
      "Собственная KNN для 100 признаков работает 172.29 секунды.\n"
     ]
    }
   ],
   "source": [
    "print(\"Собственная KNN для 100 признаков работает\", \"%.2f\" %(finish_hundred - start_hundred), \"секунды.\")"
   ]
  },
  {
   "cell_type": "markdown",
   "metadata": {},
   "source": [
    "#####Алгоритм brute"
   ]
  },
  {
   "cell_type": "code",
   "execution_count": 55,
   "metadata": {
    "collapsed": true
   },
   "outputs": [],
   "source": [
    "knn_brute = sklearn.neighbors.NearestNeighbors(n_neighbors=5, algorithm=\"brute\")\n",
    "start_brute_hundred = time.time()\n",
    "knn_brute.fit(x_train_hundred)\n",
    "knn_brute.kneighbors(x_test_hundred)\n",
    "finish_brute_hundred = time.time()"
   ]
  },
  {
   "cell_type": "code",
   "execution_count": 56,
   "metadata": {
    "collapsed": false
   },
   "outputs": [
    {
     "name": "stdout",
     "output_type": "stream",
     "text": [
      "brute-версия KNN для 100 признаков работает 20.84 секунды.\n"
     ]
    }
   ],
   "source": [
    "print(\"brute-версия KNN для 100 признаков работает\", \"%.2f\" %(finish_brute_hundred - start_brute_hundred), \"секунды.\")"
   ]
  },
  {
   "cell_type": "markdown",
   "metadata": {},
   "source": [
    "#####Алгоритм kd_tree"
   ]
  },
  {
   "cell_type": "code",
   "execution_count": 57,
   "metadata": {
    "collapsed": true
   },
   "outputs": [],
   "source": [
    "knn_kd = sklearn.neighbors.NearestNeighbors(n_neighbors=5, algorithm=\"kd_tree\")\n",
    "start_kd_hundred = time.time()\n",
    "knn_kd.fit(x_train_hundred)\n",
    "knn_kd.kneighbors(x_test_hundred)\n",
    "finish_kd_hundred = time.time()"
   ]
  },
  {
   "cell_type": "code",
   "execution_count": 58,
   "metadata": {
    "collapsed": false
   },
   "outputs": [
    {
     "name": "stdout",
     "output_type": "stream",
     "text": [
      "kd_tree-версия KNN для 100 признаков работает 103.15 секунды.\n"
     ]
    }
   ],
   "source": [
    "print(\"kd_tree-версия KNN для 100 признаков работает\", \"%.2f\" %(finish_kd_hundred - start_kd_hundred), \"секунды.\")"
   ]
  },
  {
   "cell_type": "markdown",
   "metadata": {},
   "source": [
    "#####Алгоритм ball_tree"
   ]
  },
  {
   "cell_type": "code",
   "execution_count": 59,
   "metadata": {
    "collapsed": true
   },
   "outputs": [],
   "source": [
    "knn_ball = sklearn.neighbors.NearestNeighbors(n_neighbors=5, algorithm=\"ball_tree\")\n",
    "start_ball_hundred = time.time()\n",
    "knn_ball.fit(x_train_hundred)\n",
    "knn_ball.kneighbors(x_test_hundred)\n",
    "finish_ball_hundred = time.time()"
   ]
  },
  {
   "cell_type": "code",
   "execution_count": 60,
   "metadata": {
    "collapsed": false
   },
   "outputs": [
    {
     "name": "stdout",
     "output_type": "stream",
     "text": [
      "ball_tree-версия KNN для 100 признаков работает 138.95 секунды.\n"
     ]
    }
   ],
   "source": [
    "print(\"ball_tree-версия KNN для 100 признаков работает\", \"%.2f\" %(finish_ball_hundred - start_ball_hundred), \"секунды.\")"
   ]
  },
  {
   "cell_type": "markdown",
   "metadata": {
    "collapsed": true
   },
   "source": [
    "###Выводы"
   ]
  },
  {
   "cell_type": "markdown",
   "metadata": {},
   "source": [
    "В случае, когда число признаков мало (около 10), алгоритмы kd_tree и ball_tree эффективны и существенно опережают brute-алгоритм по времени работы. При этом алгоритм kd_tree выигрывает у ball_tree. С ростом числа признаков оба метода начинают работать хуже. Уже при 20 признаках ball_tree работает примерно за то же время, за которое работает brute-алгоритм, а kd_tree все еще работает существенно быстрее. При большом числе признаков (около 100) brute алгоритм работает намного быстрее других алгоритмов. Моя реализация работает существенно медленнее стандартных, и лишь при большом числе признаков работает примерно за то же время, что и алгоритмы, основанные на построении деревьев."
   ]
  },
  {
   "cell_type": "markdown",
   "metadata": {},
   "source": [
    "##Кросс-Валидация"
   ]
  },
  {
   "cell_type": "markdown",
   "metadata": {},
   "source": [
    "Функция cross_val_n_folds генерирует индексы, соответствующие элементам обучающей и валидационной выборки, для кросс-валидации с n фолдами. "
   ]
  },
  {
   "cell_type": "code",
   "execution_count": 316,
   "metadata": {
    "collapsed": false
   },
   "outputs": [],
   "source": [
    "def cross_val_n_folds(n, train_set_size):\n",
    "    fold_size = int(train_set_size/n)\n",
    "    train_idx = [list(range(i * fold_size)) + list(range((i+1) * fold_size, train_set_size)) for i in range(n-1)] + \\\n",
    "                [list(range((n - 1) * fold_size))]\n",
    "    test_idx = [list(range(i * fold_size, (i + 1) * fold_size)) for i in range(n-1)] + \\\n",
    "               [list(range((n - 1) * fold_size, train_set_size))]\n",
    "    idx_arr = np.arange(train_set_size)\n",
    "    np.random.seed(n)\n",
    "    np.random.shuffle(idx_arr)\n",
    "    return list(zip([idx_arr[idx] for idx in train_idx], [idx_arr[idx] for idx in test_idx]))"
   ]
  },
  {
   "cell_type": "markdown",
   "metadata": {},
   "source": [
    "Реализуем оценку точности метода k ближайших соседей для нескольких значений k."
   ]
  },
  {
   "cell_type": "code",
   "execution_count": 317,
   "metadata": {
    "collapsed": false
   },
   "outputs": [],
   "source": [
    "def cross_val_score(train_x, train_y, test_x, test_y, k_list, metrics):\n",
    "    knn = sklearn.neighbors.NearestNeighbors(n_neighbors=k_list[-1], algorithm=\"brute\", metric=metrics)\n",
    "    knn.fit(train_x)\n",
    "    _, indices = knn.kneighbors(test_x)\n",
    "    test_number_list = sum([[i] * k_list[-1] for i in range(test_x.shape[0])], [])\n",
    "    closest_labels = np.array(np.hsplit(np.vstack([train_y]*test_x.shape[0])[test_number_list, indices.ravel()], \n",
    "                                 test_x.shape[0]))\n",
    "    accuracy_lst = []\n",
    "    for k in k_list:\n",
    "        k_closest_labels = closest_labels[:, :k]\n",
    "        predicted_labels = stats.mode(k_closest_labels, axis=1)[0].flatten()\n",
    "        accuracy_lst.append(accuracy_score(test_y, predicted_labels))\n",
    "    return accuracy_lst"
   ]
  },
  {
   "cell_type": "markdown",
   "metadata": {},
   "source": [
    "###Евклидова и косинусная метрики"
   ]
  },
  {
   "cell_type": "markdown",
   "metadata": {},
   "source": [
    "Посчитаем точность классификации методом k ближайших соседей для $k = 1, \\ldots, 10$ для евклидовой и косинусной метрики."
   ]
  },
  {
   "cell_type": "code",
   "execution_count": 79,
   "metadata": {
    "collapsed": false
   },
   "outputs": [
    {
     "name": "stdout",
     "output_type": "stream",
     "text": [
      "Iteraion  1  /  3\n",
      "Iteraion  2  /  3\n",
      "Iteraion  3  /  3\n"
     ]
    }
   ],
   "source": [
    "n_folds = 3\n",
    "k_list = range(1, 11)\n",
    "res_euc = np.zeros(len(k_list))\n",
    "time_euc = 0\n",
    "it = 1\n",
    "for train_idx, test_idx in cross_val_n_folds(n_folds, x_train.shape[0]):\n",
    "    print(\"Iteraion \", it, \" / \", n_folds)\n",
    "    train_set = np.copy(x_train[train_idx, :])\n",
    "    train_labels = np.copy(y_train[train_idx])\n",
    "    test_set = np.copy(x_train[test_idx, :])\n",
    "    test_labels = np.copy(y_train[test_idx])\n",
    "    it += 1\n",
    "    start = time.time()\n",
    "    res_euc += np.array(cross_val_score(train_set, train_labels, test_set, test_labels, k_list, 'euclidean'))\n",
    "    finish = time.time()\n",
    "    time_euc += finish - start\n",
    "res_euc /= n_folds"
   ]
  },
  {
   "cell_type": "code",
   "execution_count": 83,
   "metadata": {
    "collapsed": false
   },
   "outputs": [
    {
     "name": "stdout",
     "output_type": "stream",
     "text": [
      "Точность метода k ближайших соседей с евклидовой метрикой для различных k:\n",
      "k = 1 : 0.9695\n",
      "k = 2 : 0.9619\n",
      "k = 3 : 0.9691\n",
      "k = 4 : 0.9674\n",
      "k = 5 : 0.9684\n",
      "k = 6 : 0.9666\n",
      "k = 7 : 0.9667\n",
      "k = 8 : 0.9654\n",
      "k = 9 : 0.9651\n",
      "k = 10 : 0.9643\n",
      "Время работы кросс-валидации: 636.0866627693176\n"
     ]
    }
   ],
   "source": [
    "print(\"Точность метода k ближайших соседей с евклидовой метрикой для различных k:\")\n",
    "for i in range(len(res_euc)):\n",
    "    print(\"k =\", i+1, \":\", \"%.4f\"%res_euc[i])\n",
    "print(\"Время работы кросс-валидации:\", time_euc)"
   ]
  },
  {
   "cell_type": "code",
   "execution_count": 90,
   "metadata": {
    "collapsed": false
   },
   "outputs": [
    {
     "name": "stdout",
     "output_type": "stream",
     "text": [
      "Iteraion  1  /  3\n",
      "Iteraion  2  /  3\n",
      "Iteraion  3  /  3\n"
     ]
    }
   ],
   "source": [
    "n_folds = 3\n",
    "k_list = range(1, 11)\n",
    "res_cos = np.zeros(len(k_list))\n",
    "time_cos = 0\n",
    "it = 1\n",
    "for train_idx, test_idx in cross_val_n_folds(n_folds, x_train.shape[0]):\n",
    "    print(\"Iteraion \", it, \" / \", n_folds)\n",
    "    train_set = np.copy(x_train[train_idx, :])\n",
    "    train_labels = np.copy(y_train[train_idx])\n",
    "    test_set = np.copy(x_train[test_idx, :])\n",
    "    test_labels = np.copy(y_train[test_idx])\n",
    "    it += 1\n",
    "    start = time.time()\n",
    "    res_cos += np.array(cross_val_score(train_set, train_labels, test_set, test_labels, k_list, 'cosine'))\n",
    "    finish = time.time()\n",
    "    time_cos += finish - start\n",
    "res_cos /= n_folds"
   ]
  },
  {
   "cell_type": "code",
   "execution_count": 91,
   "metadata": {
    "collapsed": false
   },
   "outputs": [
    {
     "name": "stdout",
     "output_type": "stream",
     "text": [
      "Точность метода k ближайших соседей с косинусной метрикой для различных k:\n",
      "k = 1 : 0.9732\n",
      "k = 2 : 0.9693\n",
      "k = 3 : 0.9739\n",
      "k = 4 : 0.9733\n",
      "k = 5 : 0.9730\n",
      "k = 6 : 0.9722\n",
      "k = 7 : 0.9717\n",
      "k = 8 : 0.9708\n",
      "k = 9 : 0.9701\n",
      "k = 10 : 0.9700\n",
      "Время работы кросс-валидации: 877.7947187423706\n"
     ]
    }
   ],
   "source": [
    "print(\"Точность метода k ближайших соседей с косинусной метрикой для различных k:\")\n",
    "for i in range(len(res_cos)):\n",
    "    print(\"k =\", i+1, \":\", \"%.4f\"%res_cos[i])\n",
    "print(\"Время работы кросс-валидации:\", time_cos)"
   ]
  },
  {
   "cell_type": "markdown",
   "metadata": {},
   "source": [
    "Сравним Результаты"
   ]
  },
  {
   "cell_type": "code",
   "execution_count": 95,
   "metadata": {
    "collapsed": false
   },
   "outputs": [
    {
     "name": "stdout",
     "output_type": "stream",
     "text": [
      "Евклидова метрика оказалась точнее для k =  [] ,\n",
      "а косинусная — для k =  [1, 2, 3, 4, 5, 6, 7, 8, 9, 10] .\n",
      "KNN с евклидовой метрикой показал лучшую точность 0.9695  при k = 1 ,\n",
      "а с косинусной метрикой — точность 0.97395  при k = 3 .\n"
     ]
    }
   ],
   "source": [
    "euclid_list = []\n",
    "cos_list = []\n",
    "i = 1\n",
    "best_euc, k_euc = 0, 0\n",
    "best_cos, k_cos = 0, 0\n",
    "for result_euc, result_cos in list(zip(res_euc, res_cos)):\n",
    "    if result_euc > result_cos:\n",
    "        euclid_list.append(i)\n",
    "    else:\n",
    "        cos_list.append(i)\n",
    "    if result_euc > best_euc:\n",
    "        best_euc = result_euc\n",
    "        k_euc = i\n",
    "    if result_cos > best_cos:\n",
    "        best_cos = result_cos\n",
    "        k_cos = i\n",
    "    i += 1\n",
    "print(\"Евклидова метрика оказалась точнее для k = \", euclid_list, \",\")\n",
    "print(\"а косинусная — для k = \", cos_list, \".\")\n",
    "print(\"KNN с евклидовой метрикой показал лучшую точность\", best_euc, \" при k =\", k_euc, \",\")\n",
    "print(\"а с косинусной метрикой — точность\", best_cos, \" при k =\", k_cos, \".\")"
   ]
  },
  {
   "cell_type": "markdown",
   "metadata": {},
   "source": [
    "Таким образом, косинусная метрика дала лучшие значения на кросс-валидации для всех значений $k = 1, \\ldots, 10$, но ее вычисление занимает почти в полтора раза больше времени."
   ]
  },
  {
   "cell_type": "markdown",
   "metadata": {},
   "source": [
    "###Взвешенный алгоритм k ближайших соседей"
   ]
  },
  {
   "cell_type": "markdown",
   "metadata": {},
   "source": [
    "Опишем функцию, осуществляющую взвешенный метод k ближайших соседей. Голос каждого объекта равен $\\frac{1} {distance + \\varepsilon}$, где $distance$ — расстояние от классифицируемого объекта до данного объекта, а $\\varepsilon = 10^{-5}$."
   ]
  },
  {
   "cell_type": "code",
   "execution_count": 315,
   "metadata": {
    "collapsed": true
   },
   "outputs": [],
   "source": [
    "def weighted_knn_cross_val_score(train_x, train_y, test_x, test_y, k_list, metrics):\n",
    "    eps = 1e-5\n",
    "    knn = sklearn.neighbors.NearestNeighbors(n_neighbors=k_list[-1], algorithm=\"brute\", metric=metrics)\n",
    "    knn.fit(train_x)\n",
    "    dists, indices = knn.kneighbors(test_x)\n",
    "    scores = 1 / (dists + eps)\n",
    "    test_number_list = sum([[i] * k_list[-1] for i in range(test_x.shape[0])], [])\n",
    "    closest_labels = np.array(np.hsplit(np.vstack([train_y]*test_x.shape[0])[test_number_list, indices.ravel()], \n",
    "                                 test_x.shape[0]))\n",
    "    accuracy_lst = []\n",
    "    for k in k_list:\n",
    "        k_closest_labels = closest_labels[:, :k]\n",
    "        k_scores = scores[:, :k]\n",
    "        class_scores = np.zeros((test_x.shape[0], 10))\n",
    "        for i in range(10):\n",
    "            class_scores[:, i] = np.sum(k_scores * (k_closest_labels == i).astype(int) , axis=1)\n",
    "        predicted_labels = np.argmax(class_scores, axis=1)\n",
    "        accuracy_lst.append(accuracy_score(test_y, predicted_labels))\n",
    "    return accuracy_lst"
   ]
  },
  {
   "cell_type": "markdown",
   "metadata": {},
   "source": [
    "###Евклидова и косинусная метрики для взвешенного метода k ближайших соседей"
   ]
  },
  {
   "cell_type": "markdown",
   "metadata": {},
   "source": [
    "Посчитаем точность классификации взвешенным методом k ближайших соседей для $k = 1, \\ldots, 10$ для евклидовой и косинусной метрики."
   ]
  },
  {
   "cell_type": "code",
   "execution_count": 84,
   "metadata": {
    "collapsed": false
   },
   "outputs": [
    {
     "name": "stdout",
     "output_type": "stream",
     "text": [
      "Iteraion  1  /  3\n",
      "Iteraion  2  /  3\n",
      "Iteraion  3  /  3\n"
     ]
    }
   ],
   "source": [
    "n_folds = 3\n",
    "k_list = range(1, 11)\n",
    "weighted_res_euc = np.zeros(len(k_list))\n",
    "time_weuc = 0\n",
    "it = 1\n",
    "for train_idx, test_idx in cross_val_n_folds(n_folds, x_train.shape[0]):\n",
    "    print(\"Iteraion \", it, \" / \", n_folds)\n",
    "    train_set = x_train[train_idx, :]\n",
    "    train_labels = y_train[train_idx]\n",
    "    test_set = x_train[test_idx, :]\n",
    "    test_labels = y_train[test_idx]\n",
    "    start = time.time()\n",
    "    it += 1\n",
    "    weighted_res_euc += np.array(weighted_knn_cross_val_score(train_set, train_labels, test_set, \n",
    "                                                 test_labels, k_list, 'euclidean'))\n",
    "    finish = time.time()\n",
    "    time_weuc += finish - start\n",
    "weighted_res_euc /= n_folds"
   ]
  },
  {
   "cell_type": "code",
   "execution_count": 85,
   "metadata": {
    "collapsed": false
   },
   "outputs": [
    {
     "name": "stdout",
     "output_type": "stream",
     "text": [
      "Точность взвешенного метода k ближайших соседей с евклидовой метрикой для различных k:\n",
      "k = 1 : 0.9695\n",
      "k = 2 : 0.9695\n",
      "k = 3 : 0.9705\n",
      "k = 4 : 0.9710\n",
      "k = 5 : 0.9698\n",
      "k = 6 : 0.9706\n",
      "k = 7 : 0.9681\n",
      "k = 8 : 0.9682\n",
      "k = 9 : 0.9665\n",
      "k = 10 : 0.9665\n",
      "Время работы кросс-валидации:  644.8655979633331\n"
     ]
    }
   ],
   "source": [
    "print(\"Точность взвешенного метода k ближайших соседей с евклидовой метрикой для различных k:\")\n",
    "for i in range(len(weighted_res_euc)):\n",
    "    print(\"k =\", i+1, \":\", \"%.4f\"%weighted_res_euc[i])\n",
    "print(\"Время работы кросс-валидации: \", time_weuc)"
   ]
  },
  {
   "cell_type": "code",
   "execution_count": 104,
   "metadata": {
    "collapsed": false
   },
   "outputs": [
    {
     "name": "stdout",
     "output_type": "stream",
     "text": [
      "Взвешенный метод с евклидовой метрикой оказался точнее точнее для k =  [2, 3, 4, 5, 6, 7, 8, 9, 10] ,\n",
      "а не взвешенный — для k =  [] .\n"
     ]
    }
   ],
   "source": [
    "weighted_list = []\n",
    "non_weighted_list = []\n",
    "i = 2\n",
    "for result, weighted_result in list(zip(res_euc, weighted_res_euc))[1:]:\n",
    "    if result_euc < weighted_result:\n",
    "        weighted_list.append(i)\n",
    "    elif result_euc > weighted_result:\n",
    "        non_weighted_list.append(i)\n",
    "    i += 1\n",
    "print(\"Взвешенный метод с евклидовой метрикой оказался точнее точнее для k = \", weighted_list, \",\")\n",
    "print(\"а не взвешенный — для k = \", non_weighted_list, \".\")"
   ]
  },
  {
   "cell_type": "code",
   "execution_count": 96,
   "metadata": {
    "collapsed": false
   },
   "outputs": [
    {
     "name": "stdout",
     "output_type": "stream",
     "text": [
      "Iteraion  1  /  3\n",
      "Iteraion  2  /  3\n",
      "Iteraion  3  /  3\n"
     ]
    }
   ],
   "source": [
    "n_folds = 3\n",
    "k_list = range(1, 11)\n",
    "weighted_res_cos = np.zeros(len(k_list))\n",
    "time_wcos = 0\n",
    "it = 1\n",
    "for train_idx, test_idx in cross_val_n_folds(n_folds, x_train.shape[0]):\n",
    "    print(\"Iteraion \", it, \" / \", n_folds)\n",
    "    train_set = x_train[train_idx, :]\n",
    "    train_labels = y_train[train_idx]\n",
    "    test_set = x_train[test_idx, :]\n",
    "    test_labels = y_train[test_idx]\n",
    "    start = time.time()\n",
    "    it += 1\n",
    "    weighted_res_cos += np.array(weighted_knn_cross_val_score(train_set, train_labels, test_set, \n",
    "                                                 test_labels, k_list, 'cosine'))\n",
    "    finish = time.time()\n",
    "    time_wcos += finish - start\n",
    "weighted_res_cos /= n_folds"
   ]
  },
  {
   "cell_type": "code",
   "execution_count": 98,
   "metadata": {
    "collapsed": false
   },
   "outputs": [
    {
     "name": "stdout",
     "output_type": "stream",
     "text": [
      "Точность взвешенного метода k ближайших соседей с косинусной метрикой для различных k:\n",
      "k = 1 : 0.9732\n",
      "k = 2 : 0.9732\n",
      "k = 3 : 0.9748\n",
      "k = 4 : 0.9754\n",
      "k = 5 : 0.9737\n",
      "k = 6 : 0.9745\n",
      "k = 7 : 0.9726\n",
      "k = 8 : 0.9727\n",
      "k = 9 : 0.9714\n",
      "k = 10 : 0.9719\n",
      "Время кросс-валидации:  842.8168520927429\n"
     ]
    }
   ],
   "source": [
    "print(\"Точность взвешенного метода k ближайших соседей с косинусной метрикой для различных k:\")\n",
    "for i in range(len(weighted_res_cos)):\n",
    "    print(\"k =\", i+1, \":\", \"%.4f\"%weighted_res_cos[i])\n",
    "print(\"Время кросс-валидации: \", time_wcos)"
   ]
  },
  {
   "cell_type": "code",
   "execution_count": 105,
   "metadata": {
    "collapsed": false
   },
   "outputs": [
    {
     "name": "stdout",
     "output_type": "stream",
     "text": [
      "Взвешенный метод с косинусной метрикой оказался точнее точнее для k =  [2, 3, 4, 5, 6, 7, 8, 9, 10] ,\n",
      "а не взвешенный — для k =  [] .\n"
     ]
    }
   ],
   "source": [
    "weighted_list = []\n",
    "non_weighted_list = []\n",
    "i = 2\n",
    "for result, weighted_result in list(zip(res_cos, weighted_res_cos))[1:]:\n",
    "    if result < weighted_result:\n",
    "        weighted_list.append(i)\n",
    "    elif result > weighted_result:\n",
    "        non_weighted_list.append(i)\n",
    "    i += 1\n",
    "print(\"Взвешенный метод с косинусной метрикой оказался точнее точнее для k = \", weighted_list, \",\")\n",
    "print(\"а не взвешенный — для k = \", non_weighted_list, \".\")"
   ]
  },
  {
   "cell_type": "markdown",
   "metadata": {},
   "source": [
    "Итак, взвешенный метод работает лучше не взвешенного для всех значений $k$. Сравним результаты взвешенного метода с косинусной и евклидовой метрикой."
   ]
  },
  {
   "cell_type": "code",
   "execution_count": 108,
   "metadata": {
    "collapsed": false
   },
   "outputs": [
    {
     "name": "stdout",
     "output_type": "stream",
     "text": [
      "Евклидова метрика оказалась точнее для k =  [] ,\n",
      "а косинусная — для k =  [1, 2, 3, 4, 5, 6, 7, 8, 9, 10] .\n",
      "Взвешенный KNN с евклидовой метрикой показал лучшую точность 0.97105  при k = 4 ,\n",
      "а с косинусной метрикой — точность 0.97535  при k = 4 .\n"
     ]
    }
   ],
   "source": [
    "euclid_list = []\n",
    "cos_list = []\n",
    "i = 1\n",
    "best_euc, k_euc = 0, 0\n",
    "best_cos, k_cos = 0, 0\n",
    "for result_euc, result_cos in list(zip(weighted_res_euc, weighted_res_cos)):\n",
    "    if result_euc > result_cos:\n",
    "        euclid_list.append(i)\n",
    "    else:\n",
    "        cos_list.append(i)\n",
    "    if result_euc > best_euc:\n",
    "        best_euc = result_euc\n",
    "        k_euc = i\n",
    "    if result_cos > best_cos:\n",
    "        best_cos = result_cos\n",
    "        k_cos = i\n",
    "    i += 1\n",
    "print(\"Евклидова метрика оказалась точнее для k = \", euclid_list, \",\")\n",
    "print(\"а косинусная — для k = \", cos_list, \".\")\n",
    "print(\"Взвешенный KNN с евклидовой метрикой показал лучшую точность\", best_euc, \" при k =\", k_euc, \",\")\n",
    "print(\"а с косинусной метрикой — точность\", best_cos, \" при k =\", k_cos, \".\")"
   ]
  },
  {
   "cell_type": "markdown",
   "metadata": {},
   "source": [
    "Итак, лучшим оказался взвешенный KNN с косинусной метрикой и $k = 4$."
   ]
  },
  {
   "cell_type": "markdown",
   "metadata": {},
   "source": [
    "##Применение лучшего алгоритма к тестовой выборке"
   ]
  },
  {
   "cell_type": "markdown",
   "metadata": {},
   "source": [
    "Напишем функцию weighted_knn_predict, возвращающую вектор предскзанных меток классов для тестовой выборки."
   ]
  },
  {
   "cell_type": "code",
   "execution_count": 114,
   "metadata": {
    "collapsed": true
   },
   "outputs": [],
   "source": [
    "def weighted_knn_predict(train_x, train_y, test_x, k, metrics):\n",
    "    eps = 1e-5\n",
    "    knn = sklearn.neighbors.NearestNeighbors(n_neighbors=k, algorithm=\"brute\", metric=metrics)\n",
    "    knn.fit(train_x)\n",
    "    dists, indices = knn.kneighbors(test_x)\n",
    "    scores = 1 / (dists + eps)\n",
    "    test_number_list = sum([[i] * k for i in range(test_x.shape[0])], [])\n",
    "    closest_labels = np.array(np.hsplit(np.vstack([train_y]*test_x.shape[0])[test_number_list, indices.ravel()], \n",
    "                                 test_x.shape[0]))\n",
    "    class_scores = np.zeros((test_x.shape[0], 10))\n",
    "    for i in range(10):\n",
    "        class_scores[:, i] = np.sum(scores * (closest_labels == i).astype(int) , axis=1)\n",
    "    predicted_labels = np.argmax(class_scores, axis=1)\n",
    "    return predicted_labels"
   ]
  },
  {
   "cell_type": "code",
   "execution_count": 115,
   "metadata": {
    "collapsed": false
   },
   "outputs": [],
   "source": [
    "predicted_y_test = weighted_knn_predict(x_train, y_train, x_test, 4, 'cosine')"
   ]
  },
  {
   "cell_type": "code",
   "execution_count": 117,
   "metadata": {
    "collapsed": false
   },
   "outputs": [
    {
     "name": "stdout",
     "output_type": "stream",
     "text": [
      "Точность метода на тестовой выборке:  0.9752\n"
     ]
    }
   ],
   "source": [
    "print(\"Точность метода на тестовой выборке: \", accuracy_score(y_test, predicted_y_test))\n"
   ]
  },
  {
   "cell_type": "markdown",
   "metadata": {},
   "source": [
    "Полученная точность близка к точности, полученной на этапе кросс-валидации и к точности алгоритмов KNN, указанной в интернете. Точность лучших алгоритмов превышает 99%."
   ]
  },
  {
   "cell_type": "markdown",
   "metadata": {},
   "source": [
    "Выведем несколько картинок, на которых метод допустил ошибку"
   ]
  },
  {
   "cell_type": "code",
   "execution_count": 125,
   "metadata": {
    "collapsed": false
   },
   "outputs": [
    {
     "data": {
      "image/png": "[encoded data removed]",
      "text/plain": [
       "<matplotlib.figure.Figure at 0x10e1540f0>"
      ]
     },
     "metadata": {},
     "output_type": "display_data"
    }
   ],
   "source": [
    "fig = plt.figure()\n",
    "for j in range(10):\n",
    "    x_j = x_test[np.logical_and(y_test == j, predicted_y_test != y_test), :]\n",
    "    for i in range(min(5, x_j.shape[0])):\n",
    "        a=fig.add_subplot(10, 5, 5 *j + i+1)\n",
    "        plt.imshow(x_j[i].reshape((28, 28)), cmap=\"Greys\")\n",
    "        plt.axis(\"off\")"
   ]
  },
  {
   "cell_type": "markdown",
   "metadata": {},
   "source": [
    "Многие из картинок, на которых KNN допустил ошибку, похожи сразу на несколько цифр."
   ]
  },
  {
   "cell_type": "markdown",
   "metadata": {},
   "source": [
    "Матрица ошибок"
   ]
  },
  {
   "cell_type": "code",
   "execution_count": 456,
   "metadata": {
    "collapsed": false
   },
   "outputs": [
    {
     "data": {
      "image/png": "[encoded data removed]",
      "text/plain": [
       "<matplotlib.figure.Figure at 0x121482940>"
      ]
     },
     "metadata": {},
     "output_type": "display_data"
    },
    {
     "name": "stdout",
     "output_type": "stream",
     "text": [
      "[[ 977    1    0    0    0    0    1    1    0    0]\n",
      " [   0 1129    3    1    0    0    2    0    0    0]\n",
      " [   8    0 1009    1    1    0    0    8    5    0]\n",
      " [   0    1    3  976    1   12    0    4    9    4]\n",
      " [   2    1    0    0  946    0    6    2    0   25]\n",
      " [   4    0    0    9    1  863    7    1    4    3]\n",
      " [   3    3    0    0    1    3  948    0    0    0]\n",
      " [   2   10    4    0    1    0    0  998    0   13]\n",
      " [   7    1    2    9    3    3    5    4  936    4]\n",
      " [   7    7    2    5    7    3    1    4    3  970]]\n"
     ]
    }
   ],
   "source": [
    "cm = confusion_matrix(y_test, predicted_y_test)\n",
    "fig = plt.figure()\n",
    "ax = fig.add_subplot(111)\n",
    "cm_ax = ax.matshow(cm)\n",
    "fig.colorbar(cm_ax)\n",
    "plt.xticks(range(10))\n",
    "plt.yticks(range(10))\n",
    "plt.title(\"Confusion Matrix\")\n",
    "plt.xlabel(\"Predicted labels\")\n",
    "plt.ylabel(\"True labels\")\n",
    "plt.show()\n",
    "print(cm)"
   ]
  },
  {
   "cell_type": "markdown",
   "metadata": {},
   "source": [
    "#20  News Groups"
   ]
  },
  {
   "cell_type": "markdown",
   "metadata": {},
   "source": [
    "В этом разделе находится часть задания, относящаяся к набору данных 20newsgroups"
   ]
  },
  {
   "cell_type": "markdown",
   "metadata": {},
   "source": [
    "##Загрузка и подготовка данных"
   ]
  },
  {
   "cell_type": "markdown",
   "metadata": {},
   "source": [
    "Загружаем данные"
   ]
  },
  {
   "cell_type": "code",
   "execution_count": 195,
   "metadata": {
    "collapsed": false
   },
   "outputs": [],
   "source": [
    "train_news_groups = sklearn.datasets.fetch_20newsgroups(subset=\"train\", remove=(\"headers\", \"footers\", \"quotes\"))\n",
    "test_news_groups = sklearn.datasets.fetch_20newsgroups(subset=\"test\", remove=(\"headers\", \"footers\", \"quotes\"))"
   ]
  },
  {
   "cell_type": "code",
   "execution_count": 196,
   "metadata": {
    "collapsed": false
   },
   "outputs": [],
   "source": [
    "train_data = train_news_groups.data\n",
    "train_targets = train_news_groups.target\n",
    "test_data = test_news_groups.data\n",
    "test_targets = test_news_groups.target"
   ]
  },
  {
   "cell_type": "markdown",
   "metadata": {},
   "source": [
    "Переведем все слова в нижний регистр"
   ]
  },
  {
   "cell_type": "code",
   "execution_count": 198,
   "metadata": {
    "collapsed": false
   },
   "outputs": [],
   "source": [
    "train_data = list(map(lambda s: s.lower(), train_data))\n",
    "test_data = list(map(lambda s: s.lower(), test_data))"
   ]
  },
  {
   "cell_type": "markdown",
   "metadata": {},
   "source": [
    "Заменим все символы, кроме букв и цифр на пробелы"
   ]
  },
  {
   "cell_type": "code",
   "execution_count": 199,
   "metadata": {
    "collapsed": false
   },
   "outputs": [],
   "source": [
    "train_data = list(map(lambda s: re.sub(\"[^a-z 0-9]\",  \" \", s), train_data))\n",
    "test_data = list(map(lambda s: re.sub(\"[^a-z 0-9]\",  \" \", s), test_data))"
   ]
  },
  {
   "cell_type": "markdown",
   "metadata": {},
   "source": [
    "Разобьем документы на термы."
   ]
  },
  {
   "cell_type": "code",
   "execution_count": 200,
   "metadata": {
    "collapsed": false
   },
   "outputs": [],
   "source": [
    "test_data = list(map(lambda s: s.split(), test_data))\n",
    "train_data = list(map(lambda s: s.split(), train_data))"
   ]
  },
  {
   "cell_type": "markdown",
   "metadata": {},
   "source": [
    "Построим разреженную матрицу термов для обучающей выборки. Одновременно с этим мы получим словарь слов, входящих в обучающую выборку."
   ]
  },
  {
   "cell_type": "code",
   "execution_count": 206,
   "metadata": {
    "collapsed": true
   },
   "outputs": [],
   "source": [
    "indptr, indices, data = [0], [], []\n",
    "vocabulary = {}\n",
    "for article in train_data:\n",
    "    for word in article:\n",
    "        index = vocabulary.setdefault(word, len(vocabulary))\n",
    "        indices.append(index)\n",
    "        data.append(1)\n",
    "    indptr.append(len(indices))\n",
    "train_matr = csr_matrix((data, indices, indptr), dtype=float)"
   ]
  },
  {
   "cell_type": "markdown",
   "metadata": {},
   "source": [
    "Теперь построим разреженную матрицу для тестовой выборки."
   ]
  },
  {
   "cell_type": "code",
   "execution_count": 218,
   "metadata": {
    "collapsed": false
   },
   "outputs": [],
   "source": [
    "indptr, indices, data = [0], [], []\n",
    "for article in test_data:\n",
    "    for word in article:\n",
    "        if word in vocabulary.keys():\n",
    "            index = vocabulary[word]\n",
    "            indices.append(index)\n",
    "            data.append(1)\n",
    "    indptr.append(len(indices))\n",
    "test_matr = csr_matrix((data, indices, indptr), dtype=float, shape=(len(test_data), train_matr.shape[1]))"
   ]
  },
  {
   "cell_type": "code",
   "execution_count": 222,
   "metadata": {
    "collapsed": true
   },
   "outputs": [],
   "source": [
    "transformer = TfidfTransformer()\n",
    "train_tfidf_matr = transformer.fit_transform(train_matr)\n",
    "test_tfidf_matr = transformer.fit_transform(test_matr)"
   ]
  },
  {
   "cell_type": "markdown",
   "metadata": {},
   "source": [
    "##Эксперименты"
   ]
  },
  {
   "cell_type": "markdown",
   "metadata": {},
   "source": [
    "Перепишем функцию для оценки работы взвешенного метода k ближайших соседей, чтобы она могла работать с 20 метками классов."
   ]
  },
  {
   "cell_type": "code",
   "execution_count": 313,
   "metadata": {
    "collapsed": true
   },
   "outputs": [],
   "source": [
    "def text_weighted_knn_cross_val_score(train_x, train_y, test_x, test_y, k_list, metrics):\n",
    "    eps = 1e-5\n",
    "    knn = sklearn.neighbors.NearestNeighbors(n_neighbors=k_list[-1], algorithm=\"brute\", metric=metrics)\n",
    "    knn.fit(train_x)\n",
    "    dists, indices = knn.kneighbors(test_x)\n",
    "    scores = 1 / (dists + eps)\n",
    "    test_number_list = sum([[i] * k_list[-1] for i in range(test_x.shape[0])], [])\n",
    "    closest_labels = np.array(np.hsplit(np.vstack([train_y]*test_x.shape[0])[test_number_list, indices.ravel()], \n",
    "                                 test_x.shape[0]))\n",
    "    accuracy_lst = []\n",
    "    for k in k_list:\n",
    "        k_closest_labels = closest_labels[:, :k]\n",
    "        k_scores = scores[:, :k]\n",
    "        class_scores = np.zeros((test_x.shape[0], 20))\n",
    "        for i in range(20):\n",
    "            class_scores[:, i] = np.sum(k_scores * (k_closest_labels == i).astype(int) , axis=1)\n",
    "        predicted_labels = np.argmax(class_scores, axis=1)\n",
    "        accuracy_lst.append(accuracy_score(test_y, predicted_labels))\n",
    "    return accuracy_lst"
   ]
  },
  {
   "cell_type": "markdown",
   "metadata": {},
   "source": [
    "Сравним результаты работы невзвешенного KNN с евклидовой и косинусной метриками без применения tfidf."
   ]
  },
  {
   "cell_type": "markdown",
   "metadata": {},
   "source": [
    "Без tfidf:"
   ]
  },
  {
   "cell_type": "code",
   "execution_count": 318,
   "metadata": {
    "collapsed": false
   },
   "outputs": [
    {
     "name": "stdout",
     "output_type": "stream",
     "text": [
      "Iteraion  1  /  3\n",
      "Iteraion  2  /  3\n",
      "Iteraion  3  /  3\n"
     ]
    }
   ],
   "source": [
    "n_folds = 3\n",
    "k_list = range(1, 11)\n",
    "text_res_euc = np.zeros(len(k_list))\n",
    "text_res_cos = np.zeros(len(k_list))\n",
    "text_res_weuc = np.zeros(len(k_list))\n",
    "text_res_wcos = np.zeros(len(k_list))\n",
    "text_time_euc, text_time_cos, text_time_weuc, text_time_wcos = 0, 0, 0, 0\n",
    "\n",
    "it = 1\n",
    "for train_idx, test_idx in cross_val_n_folds(n_folds, train_matr.shape[0]):\n",
    "    print(\"Iteraion \", it, \" / \", n_folds)\n",
    "    train_set = train_matr[train_idx, :]\n",
    "    train_labels = train_targets[train_idx]\n",
    "    test_set = train_matr[test_idx, :]\n",
    "    test_labels = train_targets[test_idx]\n",
    "    it += 1\n",
    "    \n",
    "    start_euc = time.time()\n",
    "    text_res_euc += np.array(cross_val_score(train_set, train_labels, test_set, test_labels, k_list, 'euclidean'))\n",
    "    finish_euc = time.time()\n",
    "    text_time_euc += finish_euc - start_euc\n",
    "    \n",
    "    start_cos = time.time()\n",
    "    text_res_cos += np.array(cross_val_score(train_set, train_labels, test_set, test_labels, k_list, 'cosine'))\n",
    "    finish_cos = time.time()\n",
    "    text_time_cos += finish_cos - start_cos\n",
    "    \n",
    "    start_weuc = time.time()\n",
    "    text_res_weuc += np.array(text_weighted_knn_cross_val_score(train_set, train_labels, test_set, test_labels, \n",
    "                                                           k_list, 'euclidean'))\n",
    "    finish_weuc = time.time()\n",
    "    text_time_weuc += finish_weuc - start_weuc\n",
    "    \n",
    "    start_wcos = time.time()\n",
    "    text_res_wcos += np.array(text_weighted_knn_cross_val_score(train_set, train_labels, test_set, test_labels, \n",
    "                                                           k_list, 'cosine'))\n",
    "    finish_wcos = time.time()\n",
    "    text_time_wcos += finish_wcos - start_wcos\n",
    "\n",
    "text_res_cos /= n_folds\n",
    "text_res_euc /= n_folds\n",
    "text_res_wcos /= n_folds\n",
    "text_res_weuc /= n_folds"
   ]
  },
  {
   "cell_type": "markdown",
   "metadata": {},
   "source": [
    "С tfidf:"
   ]
  },
  {
   "cell_type": "code",
   "execution_count": 325,
   "metadata": {
    "collapsed": false
   },
   "outputs": [
    {
     "name": "stdout",
     "output_type": "stream",
     "text": [
      "Iteraion  1  /  3\n",
      "Iteraion  2  /  3\n",
      "Iteraion  3  /  3\n"
     ]
    }
   ],
   "source": [
    "n_folds = 3\n",
    "k_list = range(1, 11)\n",
    "tfidf_text_res_euc = np.zeros(len(k_list))\n",
    "tfidf_text_res_cos = np.zeros(len(k_list))\n",
    "tfidf_text_res_weuc = np.zeros(len(k_list))\n",
    "tfidf_text_res_wcos = np.zeros(len(k_list))\n",
    "tfidf_text_time_euc, tfidf_text_time_cos, tfidf_text_time_weuc, tfidf_text_time_wcos = 0, 0, 0, 0\n",
    "\n",
    "it = 1\n",
    "for train_idx, test_idx in cross_val_n_folds(n_folds, train_matr.shape[0]):\n",
    "    print(\"Iteraion \", it, \" / \", n_folds)\n",
    "    train_set = train_tfidf_matr[train_idx, :]\n",
    "    train_labels = train_targets[train_idx]\n",
    "    test_set = train_tfidf_matr[test_idx, :]\n",
    "    test_labels = train_targets[test_idx]\n",
    "    it += 1\n",
    "    \n",
    "    start_euc = time.time()\n",
    "    tfidf_text_res_euc += np.array(cross_val_score(train_set, train_labels, test_set, test_labels, k_list, \n",
    "                                                   'euclidean'))\n",
    "    finish_euc = time.time()\n",
    "    tfidf_text_time_euc += finish_euc - start_euc\n",
    "    \n",
    "    start_cos = time.time()\n",
    "    tfidf_text_res_cos += np.array(cross_val_score(train_set, train_labels, test_set, test_labels, k_list, 'cosine'))\n",
    "    finish_cos = time.time()\n",
    "    tfidf_text_time_cos += finish_cos - start_cos\n",
    "    \n",
    "    start_weuc = time.time()\n",
    "    tfidf_text_res_weuc += np.array(text_weighted_knn_cross_val_score(train_set, train_labels, test_set, test_labels, \n",
    "                                                           k_list, 'euclidean'))\n",
    "    finish_weuc = time.time()\n",
    "    tfidf_text_time_weuc += finish_weuc - start_weuc\n",
    "    \n",
    "    start_wcos = time.time()\n",
    "    tfidf_text_res_wcos += np.array(text_weighted_knn_cross_val_score(train_set, train_labels, test_set, test_labels, \n",
    "                                                           k_list, 'cosine'))\n",
    "    finish_wcos = time.time()\n",
    "    tfidf_text_time_wcos += finish_wcos - start_wcos\n",
    "\n",
    "tfidf_text_res_cos /= n_folds\n",
    "tfidf_text_res_euc /= n_folds\n",
    "tfidf_text_res_wcos /= n_folds\n",
    "tfidf_text_res_weuc /= n_folds"
   ]
  },
  {
   "cell_type": "markdown",
   "metadata": {},
   "source": [
    "##Анализ экспериментов"
   ]
  },
  {
   "cell_type": "markdown",
   "metadata": {},
   "source": [
    "Результаты времени работы практически не отличаются для всех методов."
   ]
  },
  {
   "cell_type": "code",
   "execution_count": 338,
   "metadata": {
    "collapsed": false
   },
   "outputs": [
    {
     "name": "stdout",
     "output_type": "stream",
     "text": [
      "Время работы кросс-валидации без tf-idf:\n",
      "Невзвешенный knn, евклидова метрика:  9.63\n",
      "Невзвешенный knn, косинусная метрика:  9.35\n",
      "Взвешенный knn, евклидова метрика:  8.78\n",
      "Взвешенный knn, косинусная метрика:  9.97\n",
      "\n",
      "Время работы кросс-валидации с использованием tf-idf:\n",
      "Невзвешенный knn, евклидова метрика:  8.20\n",
      "Невзвешенный knn, косинусная метрика:  7.93\n",
      "Взвешенный knn, евклидова метрика:  8.54\n",
      "Взвешенный knn, косинусная метрика:  8.29\n"
     ]
    }
   ],
   "source": [
    "print(\"Время работы кросс-валидации без tf-idf:\")\n",
    "print(\"Невзвешенный knn, евклидова метрика: \", \"%.2f\"%text_time_euc)\n",
    "print(\"Невзвешенный knn, косинусная метрика: \", \"%.2f\"%text_time_cos)\n",
    "print(\"Взвешенный knn, евклидова метрика: \", \"%.2f\"%text_time_weuc)\n",
    "print(\"Взвешенный knn, косинусная метрика: \", \"%.2f\"%text_time_wcos)\n",
    "print()\n",
    "print(\"Время работы кросс-валидации с использованием tf-idf:\")\n",
    "print(\"Невзвешенный knn, евклидова метрика: \", \"%.2f\"%tfidf_text_time_euc)\n",
    "print(\"Невзвешенный knn, косинусная метрика: \", \"%.2f\"%tfidf_text_time_cos)\n",
    "print(\"Взвешенный knn, евклидова метрика: \", \"%.2f\"%tfidf_text_time_weuc)\n",
    "print(\"Взвешенный knn, косинусная метрика: \", \"%.2f\"%tfidf_text_time_wcos)"
   ]
  },
  {
   "cell_type": "markdown",
   "metadata": {},
   "source": [
    "###Анализ влияния факторов"
   ]
  },
  {
   "cell_type": "code",
   "execution_count": 327,
   "metadata": {
    "collapsed": false
   },
   "outputs": [
    {
     "name": "stdout",
     "output_type": "stream",
     "text": [
      "Для всех значений k при использовании евклидовой метрики как для взвешенного, так и для обычного KNN использование tf-idf приводит к ухудшению результата.\n",
      "Средняя прибавка точности при отказе от использования tf-idf для евклидовой метрики составляет  9.5 %.\n"
     ]
    }
   ],
   "source": [
    "if np.all(tfidf_text_res_euc < text_res_euc) and np.all(tfidf_text_res_weuc < text_res_weuc):\n",
    "    print(\"Для всех значений k при использовании евклидовой метрики как для взвешенного, так и для обычного KNN\", \n",
    "          \"использование tf-idf приводит к ухудшению результата.\")\n",
    "improvement = -(np.mean(tfidf_text_res_euc - text_res_euc) + np.mean(tfidf_text_res_weuc - text_res_weuc)) / 2\n",
    "print(\"Средняя прибавка точности при отказе от использования tf-idf для евклидовой метрики составляет \", \n",
    "      \"%.1f\"%(100 * improvement), \"%.\")"
   ]
  },
  {
   "cell_type": "code",
   "execution_count": 328,
   "metadata": {
    "collapsed": false
   },
   "outputs": [
    {
     "name": "stdout",
     "output_type": "stream",
     "text": [
      "При этом для всех значений $k$ как для взвешенной, так и для не взвешенной версии метода с косинусной метрикой использование tf-idf приводит к улучшению результата.\n",
      "Средняя прибавка точности при использовании tf-idf для косинусной метрики составляет  34.7 %.\n"
     ]
    }
   ],
   "source": [
    "if np.all(tfidf_text_res_cos > text_res_cos) and np.all(tfidf_text_res_wcos > text_res_wcos):\n",
    "    print(\"При этом для всех значений $k$ как для взвешенной, так и для не взвешенной версии метода с\",\n",
    "          \"косинусной метрикой использование tf-idf приводит к улучшению результата.\")\n",
    "improvement = (np.mean(tfidf_text_res_cos - text_res_cos) + np.mean(tfidf_text_res_wcos - text_res_wcos)) / 2\n",
    "print(\"Средняя прибавка точности при использовании tf-idf для косинусной метрики составляет \", \n",
    "      \"%.1f\"%(100 * improvement), \"%.\")"
   ]
  },
  {
   "cell_type": "code",
   "execution_count": 329,
   "metadata": {
    "collapsed": false
   },
   "outputs": [
    {
     "name": "stdout",
     "output_type": "stream",
     "text": [
      "При прочих равных использование косинусной метрики дает лучший результат, чем использование евклидовой.\n",
      "Среднее прибавка точности при переходе от евклидовой метрики к косинусной составляет:  28.3 %\n"
     ]
    }
   ],
   "source": [
    "if (np.all(tfidf_text_res_cos > tfidf_text_res_euc) and np.all(tfidf_text_res_wcos > tfidf_text_res_weuc)\n",
    "    and np.all(text_res_cos > text_res_euc) and np.all(text_res_wcos > text_res_weuc)):\n",
    "    print(\"При прочих равных использование косинусной метрики дает лучший результат, чем использование евклидовой.\")\n",
    "improvement = (np.mean(tfidf_text_res_cos - tfidf_text_res_euc) + np.mean(tfidf_text_res_wcos - tfidf_text_res_weuc)\n",
    "              + np.mean(text_res_cos - text_res_euc) + np.mean(text_res_wcos - text_res_weuc))/4\n",
    "print(\"Среднее прибавка точности при переходе от евклидовой метрики к косинусной составляет: \", \n",
    "     \"%.1f\"%(100*improvement), \"%\")\n",
    "    "
   ]
  },
  {
   "cell_type": "code",
   "execution_count": 336,
   "metadata": {
    "collapsed": false
   },
   "outputs": [
    {
     "name": "stdout",
     "output_type": "stream",
     "text": [
      "При прочих равных взвешенный метод KNN дает лучший результат, чем обычный.\n",
      "Среднее прибавка точности при переходе от невзвешанного метода к взвешенному составляет:  2.2 %\n"
     ]
    }
   ],
   "source": [
    "if (np.all(tfidf_text_res_wcos >= tfidf_text_res_cos) and np.all(tfidf_text_res_weuc >= tfidf_text_res_euc)\n",
    "    and np.all(text_res_wcos >= text_res_cos) and np.all(text_res_weuc >= text_res_euc)):\n",
    "    print(\"При прочих равных взвешенный метод KNN дает лучший результат, чем обычный.\")\n",
    "improvement = (np.mean(tfidf_text_res_wcos - tfidf_text_res_cos) + np.mean(tfidf_text_res_weuc - tfidf_text_res_euc)\n",
    "              + np.mean(text_res_wcos - text_res_cos) + np.mean(text_res_weuc - text_res_euc))/4\n",
    "print(\"Среднее прибавка точности при переходе от невзвешанного метода к взвешенному составляет: \", \n",
    "     \"%.1f\"%(100*improvement), \"%\")"
   ]
  },
  {
   "cell_type": "markdown",
   "metadata": {},
   "source": [
    "Опишем функцию, вычисляющую по списку точностей для $k = 1, \\ldots, 10$ оптимальное значение $k$ и точность на нем."
   ]
  },
  {
   "cell_type": "code",
   "execution_count": 337,
   "metadata": {
    "collapsed": true
   },
   "outputs": [],
   "source": [
    "def find_opt_k(k_list, acc_list):\n",
    "    max_acc, opt_k = 0, 0\n",
    "    for k, acc in list(zip(k_list, acc_list)):\n",
    "        if acc > max_acc:\n",
    "            max_acc = acc\n",
    "            opt_k = k\n",
    "    return opt_k, max_acc"
   ]
  },
  {
   "cell_type": "code",
   "execution_count": 339,
   "metadata": {
    "collapsed": false
   },
   "outputs": [
    {
     "name": "stdout",
     "output_type": "stream",
     "text": [
      "Оптимальные значения k и соответствующие точности для различных версий KNN:\n",
      "Без tf-idf:\n",
      "Невзвешенный knn, евклидова метрика:  0.215 при k = 1\n",
      "Невзвешенный knn, косинусная метрика:  0.283 при k = 1\n",
      "Взвешенный knn, евклидова метрика:  0.217 при k = 5\n",
      "Взвешенный knn, косинусная метрика:  0.283 при k = 1\n",
      "\n",
      "С использованием tf-idf:\n",
      "Невзвешенный knn, евклидова метрика:  0.142 при k = 1\n",
      "Невзвешенный knn, косинусная метрика:  0.611 при k = 8\n",
      "Взвешенный knn, евклидова метрика:  0.142 при k = 1\n",
      "Взвешенный knn, косинусная метрика:  0.631 при k = 6\n"
     ]
    }
   ],
   "source": [
    "k_euc, acc_euc = find_opt_k(range(1, 11), text_res_euc)\n",
    "k_cos, acc_cos = find_opt_k(range(1, 11), text_res_cos)\n",
    "k_weuc, acc_weuc = find_opt_k(range(1, 11), text_res_weuc)\n",
    "k_wcos, acc_wcos = find_opt_k(range(1, 11), text_res_wcos)\n",
    "k_teuc, acc_teuc = find_opt_k(range(1, 11), tfidf_text_res_euc)\n",
    "k_tcos, acc_tcos = find_opt_k(range(1, 11), tfidf_text_res_cos)\n",
    "k_tweuc, acc_tweuc = find_opt_k(range(1, 11), tfidf_text_res_weuc)\n",
    "k_twcos, acc_twcos = find_opt_k(range(1, 11), tfidf_text_res_wcos)\n",
    "\n",
    "print(\"Оптимальные значения k и соответствующие точности для различных версий KNN:\")\n",
    "print(\"Без tf-idf:\")\n",
    "print(\"Невзвешенный knn, евклидова метрика: \", \"%.3f\"%acc_euc, \"при k =\", k_euc)\n",
    "print(\"Невзвешенный knn, косинусная метрика: \", \"%.3f\"%acc_cos, \"при k =\", k_cos)\n",
    "print(\"Взвешенный knn, евклидова метрика: \", \"%.3f\"%acc_weuc, \"при k =\", k_weuc)\n",
    "print(\"Взвешенный knn, косинусная метрика: \", \"%.3f\"%acc_wcos, \"при k =\", k_wcos)\n",
    "print()\n",
    "print(\"С использованием tf-idf:\")\n",
    "print(\"Невзвешенный knn, евклидова метрика: \", \"%.3f\"%acc_teuc, \"при k =\", k_teuc)\n",
    "print(\"Невзвешенный knn, косинусная метрика: \", \"%.3f\"%acc_tcos, \"при k =\", k_tcos)\n",
    "print(\"Взвешенный knn, евклидова метрика: \", \"%.3f\"%acc_tweuc, \"при k =\", k_tweuc)\n",
    "print(\"Взвешенный knn, косинусная метрика: \", \"%.3f\"%acc_twcos, \"при k =\", k_twcos)"
   ]
  },
  {
   "cell_type": "markdown",
   "metadata": {},
   "source": [
    "Построим график, показывающий зависимость точности от параметра $k$ для каждого из методов"
   ]
  },
  {
   "cell_type": "code",
   "execution_count": 424,
   "metadata": {
    "collapsed": false
   },
   "outputs": [
    {
     "data": {
      "image/png": "[encoded data removed]",
      "text/plain": [
       "<matplotlib.figure.Figure at 0x113511668>"
      ]
     },
     "metadata": {},
     "output_type": "display_data"
    }
   ],
   "source": [
    "plt.plot(range(1, 11), text_res_euc, 'r', label=\"Euclidean\")\n",
    "plt.plot(range(1, 11), text_res_weuc, 'b', label=\"Weighted Euclidean\")\n",
    "plt.plot(range(1, 11), text_res_cos, 'g', label=\"Cosine\")\n",
    "plt.plot(range(1, 11), text_res_wcos, 'y', label=\"Weighted Cosine\")\n",
    "plt.plot(range(1, 11), tfidf_text_res_euc, '-rx', label=\"TF-IDF Euclidean\")\n",
    "plt.plot(range(1, 11), tfidf_text_res_weuc, '-bx', label=\"TF-IDF Weighted-Euclidean\")\n",
    "plt.plot(range(1, 11), tfidf_text_res_cos, '-gx', label=\"TF-IDF Cosine\")\n",
    "plt.plot(range(1, 11), tfidf_text_res_wcos, '-yx', label=\"TF-IDF Weighted Cosine\")\n",
    "plt.ylim(ymax=1, ymin=0)\n",
    "plt.ylabel(\"accuracy\")\n",
    "plt.xlabel(\"k\")\n",
    "plt.legend(bbox_to_anchor=(0., -0.5, 1., -0.1), mode=\"expand\", loc=10, borderaxespad=0.2)\n",
    "plt.show()"
   ]
  },
  {
   "cell_type": "markdown",
   "metadata": {},
   "source": [
    "Итак, лучшим вариантом метода KNN на кросс-валидации оказался взвешенный метод с использованием tf-idf и косинусной метрики при $k = 6$."
   ]
  },
  {
   "cell_type": "markdown",
   "metadata": {},
   "source": [
    "##Применение наилучшего алгоритма к тестовой выборке"
   ]
  },
  {
   "cell_type": "markdown",
   "metadata": {},
   "source": [
    "Напишем функцию, предсказывающую значение меток класса на тестовой выборке с помощью взвешенного KNN с косинусной метрикой."
   ]
  },
  {
   "cell_type": "code",
   "execution_count": 425,
   "metadata": {
    "collapsed": true
   },
   "outputs": [],
   "source": [
    "def text_weighted_knn_predict(train_x, train_y, test_x, k):\n",
    "    eps = 1e-5\n",
    "    knn = sklearn.neighbors.NearestNeighbors(n_neighbors=k, algorithm=\"brute\", metric='cosine')\n",
    "    knn.fit(train_x)\n",
    "    dists, indices = knn.kneighbors(test_x)\n",
    "    scores = 1 / (dists + eps)\n",
    "    test_number_list = sum([[i] * k for i in range(test_x.shape[0])], [])\n",
    "    closest_labels = np.array(np.hsplit(np.vstack([train_y]*test_x.shape[0])[test_number_list, indices.ravel()], \n",
    "                                 test_x.shape[0]))\n",
    "\n",
    "    class_scores = np.zeros((test_x.shape[0], 20))\n",
    "    for i in range(20):\n",
    "        class_scores[:, i] = np.sum(scores * (closest_labels == i).astype(int) , axis=1)\n",
    "    predicted_labels = np.argmax(class_scores, axis=1)\n",
    "    return predicted_labels"
   ]
  },
  {
   "cell_type": "markdown",
   "metadata": {},
   "source": [
    "Вычислим прогноз для меток на тестовой выборке."
   ]
  },
  {
   "cell_type": "code",
   "execution_count": 428,
   "metadata": {
    "collapsed": false
   },
   "outputs": [],
   "source": [
    "predicted_labels = text_weighted_knn_predict(train_tfidf_matr, train_targets, test_tfidf_matr, 6)"
   ]
  },
  {
   "cell_type": "code",
   "execution_count": 429,
   "metadata": {
    "collapsed": false
   },
   "outputs": [
    {
     "name": "stdout",
     "output_type": "stream",
     "text": [
      "Точность прогноза:  0.561869357408\n"
     ]
    }
   ],
   "source": [
    "print(\"Точность прогноза: \", accuracy_score(test_targets, predicted_labels))"
   ]
  },
  {
   "cell_type": "markdown",
   "metadata": {},
   "source": [
    "Полученная точность хуже точности на кросс-валидации, но не слишком далека от нее."
   ]
  },
  {
   "cell_type": "markdown",
   "metadata": {},
   "source": [
    "Несколько документов, на которых были допущены ошибки"
   ]
  },
  {
   "cell_type": "code",
   "execution_count": 463,
   "metadata": {
    "collapsed": false
   },
   "outputs": [
    {
     "name": "stdout",
     "output_type": "stream",
     "text": [
      "Article 645\n",
      "True label:  comp.graphics\n",
      "Predicted label:  comp.windows.x\n",
      "What I'd like to see is the more generic N-dimensional widget set.\n",
      "I realize, that there wouldn't be a whole shitload of people\n",
      "who'd want more than 3, but why stop?\n",
      "\n",
      "All I need is a Widget with up to N viewports showing me different\n",
      "3-D or 2-D slices of my stuff.\n",
      "\n",
      "alter,\n",
      "pat\n",
      "\n",
      "Article 2466\n",
      "True label:  rec.sport.hockey\n",
      "Predicted label:  talk.politics.mideast\n",
      "\n",
      "This would be dumb move of the nineties...Lindros is big and strong...\n",
      "but why give him a ball and chain on one leg and an anchor on the\n",
      "other to drag along.\n",
      "\n",
      "\n",
      "Not if Pocklington gets there first! (-...actually, if Pocklington\n",
      "doesn't get a better deal, he would probably go to Hamilton...taking\n",
      "the team out of Canada would get the whole country mad at him...\n",
      "taking the team to Hamilton wouldn't get anybody mad at him that \n",
      "isn't mad at him already...and would make him a lot of friends\n",
      "in Southern Ontario...so many that the whining of the stupid politicians in\n",
      "Edmonton and the fickle spoiled fans wouldn't be noticed at all.\n",
      "Edmonton would wallow in anonymnity.\n",
      "Article 2680\n",
      "True label:  comp.sys.ibm.pc.hardware\n",
      "Predicted label:  comp.sys.mac.hardware\n",
      "I believe I have the same monitor problem.  I have a system from Micron \n",
      "Computers with the 15\" Mag 1564 (the same monitor as the gateway) and am having\n",
      "the same symptoms.\n",
      "\n",
      "What's this with removing the monitor extension cable?\n",
      "\n",
      "Article 3119\n",
      "True label:  alt.atheism\n",
      "Predicted label:  talk.politics.mideast\n",
      "\n",
      "Ah! Excellent. So why doesn't she appear to me? I'm a little weak in the\n",
      "blind faith department. (Besides, she doesn't even really need to appear:\n",
      "how about, oh say, a little tip - something like \"put your all on #3 in the\n",
      "7:30 at the Dog Races\" ... perhaps in a dream or vision.)\n",
      "\n",
      "\n",
      "I'm afraid I don't know arabic; I have only read translations. I wouldn't\n",
      "know it if it were well-written. (Consistent, though, is one thing the Quran\n",
      "is not.)  And have *you* read it in arabic?  Besides, some of my best\n",
      "writing has been done under the influence of, shall we say, consciousness\n",
      "altering substances.\n",
      "\n",
      "\n",
      "Yes, so? How do we know they *weren't* very good? (Again, assuming that the\n",
      "Quran is beautfully written.)\n",
      "\n",
      "\n",
      "Ok, I retract this point. (Although I might still say that once he knew, he\n",
      "should have done something about it.)\n",
      "\n",
      "\n",
      "I haven't interviewed all muslims about this; I would really like it if this\n",
      "were false. But I can't take it on your say-so - what are your sources?\n",
      "\n",
      "\n",
      "What other basis do we have to judge a system? Especially when we can't get\n",
      "a consistent picture of what Islam \"really\" is. Do I believe Khomeini? Do I\n",
      "go by the Imam of the mosque in Mecca? Or perhaps the guy in New Jersey? Or\n",
      "perhaps you say I should go only by the Quran. Ok, whose translation? And\n",
      "what about things like \"And wherever you find idolators, kill them\"?\n",
      "\n",
      "-s\n",
      "Article 101\n",
      "True label:  rec.autos\n",
      "Predicted label:  talk.politics.mideast\n",
      "\n",
      "\tAhh Broncos.  Well personally, I have a '78.  The blue book is just\n",
      "a hair over 3 grand.  I bought it for 2500 and then bought new tires 650\n",
      "front end rebuild 350, carb rebuild 130.  Then i did the unthinkable\n",
      "and blew the engine (not bronco specific, unmaintained engine with 168,000)\n",
      "2400 more bucks there, now it is in nice condition, well after new seats out\n",
      "of a t-bird, radio, 2 amps, speakers, alarm, well the radio and amps were \n",
      "free and i bought the speakers used for 40 bucks, and the other speakers\n",
      "i took out of my old jeep (Sell a Jeep for a bronco you might ask,\n",
      "but it was a Wagoneer).  Its a lovely specimen, solid front and rear\n",
      "axels, ford 9\" and a dana 44 up front.  Watch the rear axel wrap, i \n",
      "busted off my u-bolts ONCE, i added traction shocks after that and \n",
      "haven't had a problem since.  Also the bottom of the doors tend to \n",
      "rot, bottom of the tailgates likes to rust right up to the new ones\n",
      "that might be in your budget.  The post 80 broncos have that sickly\n",
      "TTB front end and little stamped and folded steel radius arms were\n",
      "as the 78-79 have nice big cast iron longer radius arms(ie more prspective\n",
      "wheel travel).  The only rust i have is on my doors and a few\n",
      "dings in the sheet metal.  I don't know when the removeable tops were\n",
      "discontinued but they are fun.  I just ordered a full convertable top\n",
      "for 400$ for mine(credit card).  Don't ever break the window if you\n",
      "have the double laminated bronzed privacy glass in your cap it is over\n",
      "400 bucks to replace.  My bronco also does pretty good offroad,\n",
      "i haven't bottomed out my suspension, YET, and have crossed over\n",
      "3 foot deep of water with no problems, handles rocks like a charm too.\n",
      "One problem is it is WIDE and you sometimes can't follow a CJ or a\n",
      "Toyota, between two rocks or trees, and your grandmother will have\n",
      "a hard time getting up into it.\n",
      "Article 594\n",
      "True label:  comp.os.ms-windows.misc\n",
      "Predicted label:  talk.politics.mideast\n",
      "\n",
      "\n",
      "\n",
      "\n",
      "You'll have to kill off half the net. Maybe that isn't such a bad\n",
      "idea...\n",
      "Article 1831\n",
      "True label:  sci.electronics\n",
      "Predicted label:  rec.motorcycles\n",
      "\n",
      "\n",
      "May I tease out a sub-thread from this discussion?\n",
      "\n",
      "Can you all please tell me how to remove  the stickers from new houses'\n",
      "appliances and outdoor lampposts?  Especially the lamppost, right on\n",
      "the glass.  Isn't there something you can rub into stuck-on labels that\n",
      "will release them from their death-grip on glass or other hard surfaces?\n",
      "\n",
      "Many thanks for any help.  \n",
      "\n",
      "                                              John\n",
      "Article 1413\n",
      "True label:  alt.atheism\n",
      "Predicted label:  talk.religion.misc\n",
      "\n",
      "If I remember correctly Prometheus books have this one in stock,\n",
      "so just call them and ask for the book.\n",
      "\n",
      "Cheers,\n",
      "Kent\n",
      "Article 1699\n",
      "True label:  sci.med\n",
      "Predicted label:  talk.politics.mideast\n",
      "\n",
      "\n",
      "\n",
      "\n",
      "\n",
      "\n",
      "\n",
      "\n",
      "\n",
      "\n",
      "For one week, she probably wants to see how you react to the diet. If it\n",
      "changes anything. \n",
      "\n",
      "You can live on the diet but you need to up your calories. Where before you\n",
      "had a pat of butter now you need a medium apple (probably microwave\n",
      "cooked).  Smaller meals but more of them. Not terrific amounts of meat, it's\n",
      "hard to digest anyway. \n",
      "\n",
      "For comfort and to make the carbohydrate meal \"last\" longer eat pasta or\n",
      "rice which give their calories up slowly rather than bread or corn. Maybe\n",
      "smaller meals as you may be getting less room in the stomach area. Is the\n",
      "baby still coming up. Is it starting to push or rub under your ribs? How\n",
      "tight are your clothes. You shouldn't be wearing any clothing that compresses \n",
      "your middle. Be sure not to \"suck in\" your stomach when sitting, again it\n",
      "will put pressure on the digestive tract. \n",
      "\n",
      "Try laying on your sides, back,\n",
      "and stay in reclining positions for the many hours you are being inactive.\n",
      "Easier on your legs (circulation) as well. You might try letting the baby\n",
      "\"turn\" or at least not be forced under the ribs during the last months.\n",
      "When you are shortwaisted it's easy for that baby to end up right under the\n",
      "diaphram, especially if you have tight abdominal muscles. If I had my\n",
      "second one to do over again I think I'd have tried to loosen up since he\n",
      "didn't turn sideways until late and the relief was enormous.\n",
      "\n",
      "\n",
      "Maybe this doctor does have a thing about weight gain in pregnancy or maybe\n",
      "she just nags all her patients this way. Especially if she's young. \n",
      "But this gallbladder/whatever problem that might be coming up is something\n",
      "to be avoided if possible. \n",
      "\n",
      "Nausea, etc. can vary from person to person and with each pregnancy. My\n",
      "first pregnancy was miserable. During the second I had very little trouble.\n",
      "Some articles have said that women with nausea had a statistically better\n",
      "chance of carrying their baby. (grain of salt here) \n",
      "\n",
      "Good luck\n",
      "Article 2948\n",
      "True label:  talk.politics.mideast\n",
      "Predicted label:  talk.politics.misc\n",
      "\n",
      "The obsession with discussions of past (or present) events seems to be\n",
      "largely centered on trying to \"prove\" that \"they\" are worse than \"us\".\n",
      "As we see over and over, that leads nowhere except to make ourselves\n",
      "feel superior. It's as if we've become addicted to periodic injections\n",
      "of \"self-affirmation\" that draw their power from denigration of the\n",
      "\"other\" and romanticization of ourselves. The hope is that we will begin \n",
      "sometime to apply these discussions in some way towards consideration of \n",
      "how to defuse the situation, advancement of negotiations and the search \n",
      "for common ground between the parties involved.\n",
      " \n",
      "Of course, for this to happen we can't believe that the best path to \n",
      "*making ourselves feel better* is at the expense of others. As long as \n",
      "those valuing the coming together of \"opposing\" parties do not pursue \n",
      "their vision with the same passion as do those polarization specialists, \n",
      "we will stay stuck in the circus of one-upsmanship we now have. We're\n",
      "getting precisely what we are willing to work for.\n"
     ]
    }
   ],
   "source": [
    "mistaken_docs = np.array(test_news_groups.data)[test_targets != predicted_labels]\n",
    "for i in np.random.randint(mistaken_docs.size, size=10):\n",
    "    print(\"Article\", i)\n",
    "    print(\"True label: \", list(train_news_groups.target_names)[(test_targets[test_targets != predicted_labels])[i]])\n",
    "    print(\"Predicted label: \", list(train_news_groups.target_names)\n",
    "          [(predicted_labels[test_targets != predicted_labels])[i]])\n",
    "    print(mistaken_docs[i])"
   ]
  },
  {
   "cell_type": "markdown",
   "metadata": {},
   "source": [
    "Во многих текстах, на которых были допущены ошибки, встречаются слова, указывающие на принадлежность их к категории, к которой их отнес KNN."
   ]
  },
  {
   "cell_type": "markdown",
   "metadata": {},
   "source": [
    "Матрица ошибок"
   ]
  },
  {
   "cell_type": "code",
   "execution_count": 467,
   "metadata": {
    "collapsed": false
   },
   "outputs": [
    {
     "data": {
      "image/png": "[encoded data removed]",
      "text/plain": [
       "<matplotlib.figure.Figure at 0x119e95400>"
      ]
     },
     "metadata": {},
     "output_type": "display_data"
    }
   ],
   "source": [
    "cm = confusion_matrix(test_targets, predicted_labels)\n",
    "fig = plt.figure()\n",
    "ax = fig.add_subplot(111)\n",
    "cm_ax = ax.matshow(cm)\n",
    "fig.colorbar(cm_ax)\n",
    "plt.xticks(range(20), list(train_news_groups.target_names), rotation='vertical')\n",
    "plt.yticks(range(20), list(train_news_groups.target_names))\n",
    "# plt.title(\"Confusion Matrix\")\n",
    "plt.xlabel(\"Predicted labels\")\n",
    "plt.ylabel(\"True labels\")\n",
    "plt.show()\n"
   ]
  },
  {
   "cell_type": "markdown",
   "metadata": {},
   "source": [
    "Видно, что алгоритм достаточно часто неверно интерпретировал статьи, как относящиеся к теме politics.mideast. В остальном чаще всего он ошибается в близких темах."
   ]
  },
  {
   "cell_type": "markdown",
   "metadata": {},
   "source": [
    "##Выводы"
   ]
  },
  {
   "cell_type": "markdown",
   "metadata": {},
   "source": [
    "Во всех проведенных экспериментах взвешенный метод оказался лучше невзвешанного, а косинусная метрика — лучше евклидовой. Зависимость от числа соседей в диапазоне $1, \\ldots, 10$ не слишком велика. На наборе данных mnist разница между всеми вариантами алгоритма по точности не слишком велика. При этом метод с евклидовой метрикой работает почти в полтора раза быстрее, поэтому в случае, когда достаточно хорошей, но не оптимальной точности, следует использовать евклидову метрику. В задаче классификации текстов использование преобразования tf-idf дает очень серьезную прибавку в точности.\n",
    "\n",
    "В целом, KNN очень хорошо работает на наборе данных mnist и не так хорошо на задаче классификации текстов. Не лучшее качество классификации во втором случае объясняется тем, что многие из рассматриваемых тем близки, и различить их по используемым словам не всегда возможно."
   ]
  },
  {
   "cell_type": "code",
   "execution_count": null,
   "metadata": {
    "collapsed": true
   },
   "outputs": [],
   "source": []
  }
 ],
 "metadata": {
  "kernelspec": {
   "display_name": "Python 3",
   "language": "python",
   "name": "python3"
  },
  "language_info": {
   "codemirror_mode": {
    "name": "ipython",
    "version": 3
   },
   "file_extension": ".py",
   "mimetype": "text/x-python",
   "name": "python",
   "nbconvert_exporter": "python",
   "pygments_lexer": "ipython3",
   "version": "3.4.3"
  }
 },
 "nbformat": 4,
 "nbformat_minor": 0
}
