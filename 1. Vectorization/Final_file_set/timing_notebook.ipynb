{
 "cells": [
  {
   "cell_type": "code",
   "execution_count": 51,
   "metadata": {
    "collapsed": true
   },
   "outputs": [],
   "source": [
    "import numpy as np\n",
    "from scipy.misc import imread, imsave\n",
    "from functools import reduce\n",
    "import scipy.spatial.distance as spd\n",
    "from importlib import reload"
   ]
  },
  {
   "cell_type": "markdown",
   "metadata": {},
   "source": [
    "#Задача 1"
   ]
  },
  {
   "cell_type": "code",
   "execution_count": 52,
   "metadata": {
    "collapsed": true
   },
   "outputs": [],
   "source": [
    "from problem_1 import non_zero_prod, vec_non_zero_prod, fun_non_zero_prod"
   ]
  },
  {
   "cell_type": "markdown",
   "metadata": {},
   "source": [
    "## (m, n) = (100, 30)"
   ]
  },
  {
   "cell_type": "code",
   "execution_count": 53,
   "metadata": {
    "collapsed": false
   },
   "outputs": [],
   "source": [
    "m, n = 100, 30\n",
    "np.random.seed(12)\n",
    "x = np.random.rand(m, n)*5\n",
    "zeros = np.random.randint(min(m, n), size=min(m, n)/4)\n",
    "x[zeros, zeros] = 0"
   ]
  },
  {
   "cell_type": "code",
   "execution_count": 54,
   "metadata": {
    "collapsed": false
   },
   "outputs": [
    {
     "name": "stdout",
     "output_type": "stream",
     "text": [
      "1000 loops, best of 3: 16.3 µs per loop\n"
     ]
    }
   ],
   "source": [
    "%timeit -n 1000 non_zero_prod(x)"
   ]
  },
  {
   "cell_type": "code",
   "execution_count": 55,
   "metadata": {
    "collapsed": false
   },
   "outputs": [
    {
     "name": "stdout",
     "output_type": "stream",
     "text": [
      "1000 loops, best of 3: 11.1 µs per loop\n"
     ]
    }
   ],
   "source": [
    "%timeit -n 1000 vec_non_zero_prod(x)"
   ]
  },
  {
   "cell_type": "code",
   "execution_count": 56,
   "metadata": {
    "collapsed": false
   },
   "outputs": [
    {
     "name": "stdout",
     "output_type": "stream",
     "text": [
      "1000 loops, best of 3: 47.1 µs per loop\n"
     ]
    }
   ],
   "source": [
    "%timeit -n 1000 fun_non_zero_prod(x)"
   ]
  },
  {
   "cell_type": "markdown",
   "metadata": {},
   "source": [
    "## (m, n) = (1000, 1000)"
   ]
  },
  {
   "cell_type": "code",
   "execution_count": 57,
   "metadata": {
    "collapsed": false
   },
   "outputs": [],
   "source": [
    "m, n = 1000, 1000\n",
    "np.random.seed(3)\n",
    "x = np.random.rand(m, n)*2.9\n",
    "zeros = np.random.randint(min(m, n), size=min(m, n)/4)\n",
    "x[zeros, zeros] = 0"
   ]
  },
  {
   "cell_type": "code",
   "execution_count": 58,
   "metadata": {
    "collapsed": false
   },
   "outputs": [
    {
     "name": "stdout",
     "output_type": "stream",
     "text": [
      "1000 loops, best of 3: 588 µs per loop\n"
     ]
    }
   ],
   "source": [
    "%timeit -n 1000 non_zero_prod(x) "
   ]
  },
  {
   "cell_type": "code",
   "execution_count": 59,
   "metadata": {
    "collapsed": false
   },
   "outputs": [
    {
     "name": "stdout",
     "output_type": "stream",
     "text": [
      "1000 loops, best of 3: 32.5 µs per loop\n"
     ]
    }
   ],
   "source": [
    "%timeit -n 1000 vec_non_zero_prod(x)"
   ]
  },
  {
   "cell_type": "code",
   "execution_count": 60,
   "metadata": {
    "collapsed": false
   },
   "outputs": [
    {
     "name": "stdout",
     "output_type": "stream",
     "text": [
      "1000 loops, best of 3: 1.31 ms per loop\n"
     ]
    }
   ],
   "source": [
    "%timeit -n 1000 fun_non_zero_prod(x)"
   ]
  },
  {
   "cell_type": "markdown",
   "metadata": {},
   "source": [
    "##(m, n) = (5000, 7000)"
   ]
  },
  {
   "cell_type": "code",
   "execution_count": 61,
   "metadata": {
    "collapsed": false
   },
   "outputs": [],
   "source": [
    "m, n = 5000, 7000\n",
    "np.random.seed(8)\n",
    "x = np.random.rand(m, n)*2.8\n",
    "zeros = np.random.randint(min(m, n), size=min(m, n)/4)\n",
    "x[zeros, zeros] = 0"
   ]
  },
  {
   "cell_type": "code",
   "execution_count": 62,
   "metadata": {
    "collapsed": false
   },
   "outputs": [
    {
     "name": "stdout",
     "output_type": "stream",
     "text": [
      "1000 loops, best of 3: 2.91 ms per loop\n"
     ]
    }
   ],
   "source": [
    "%timeit -n 1000 non_zero_prod(x) "
   ]
  },
  {
   "cell_type": "code",
   "execution_count": 63,
   "metadata": {
    "collapsed": false
   },
   "outputs": [
    {
     "name": "stdout",
     "output_type": "stream",
     "text": [
      "1000 loops, best of 3: 135 µs per loop\n"
     ]
    }
   ],
   "source": [
    "%timeit -n 1000 vec_non_zero_prod(x)"
   ]
  },
  {
   "cell_type": "code",
   "execution_count": 64,
   "metadata": {
    "collapsed": false
   },
   "outputs": [
    {
     "name": "stdout",
     "output_type": "stream",
     "text": [
      "1000 loops, best of 3: 6.64 ms per loop\n"
     ]
    }
   ],
   "source": [
    "%timeit -n 1000 fun_non_zero_prod(x)"
   ]
  },
  {
   "cell_type": "markdown",
   "metadata": {
    "collapsed": true
   },
   "source": [
    "# Задача 2"
   ]
  },
  {
   "cell_type": "code",
   "execution_count": 65,
   "metadata": {
    "collapsed": false
   },
   "outputs": [],
   "source": [
    "from problem_2 import get_vector, vec_get_vector, fun_get_vector"
   ]
  },
  {
   "cell_type": "markdown",
   "metadata": {},
   "source": [
    "##(m, n) = (100, 30), |i| = 15"
   ]
  },
  {
   "cell_type": "code",
   "execution_count": 66,
   "metadata": {
    "collapsed": false
   },
   "outputs": [],
   "source": [
    "m, n = 100, 30\n",
    "len_i = 15\n",
    "np.random.seed(12)\n",
    "x = np.random.rand(m, n)*5\n",
    "i, j = np.random.randint(m, size=len_i), np.random.randint(n, size=len_i)"
   ]
  },
  {
   "cell_type": "code",
   "execution_count": 67,
   "metadata": {
    "collapsed": false
   },
   "outputs": [
    {
     "name": "stdout",
     "output_type": "stream",
     "text": [
      "1000 loops, best of 3: 15 µs per loop\n"
     ]
    }
   ],
   "source": [
    "%timeit -n 1000 get_vector(x, i, j) "
   ]
  },
  {
   "cell_type": "code",
   "execution_count": 68,
   "metadata": {
    "collapsed": false
   },
   "outputs": [
    {
     "name": "stdout",
     "output_type": "stream",
     "text": [
      "1000 loops, best of 3: 3.26 µs per loop\n"
     ]
    }
   ],
   "source": [
    "%timeit -n 1000 vec_get_vector(x, i, j) "
   ]
  },
  {
   "cell_type": "code",
   "execution_count": 69,
   "metadata": {
    "collapsed": false
   },
   "outputs": [
    {
     "name": "stdout",
     "output_type": "stream",
     "text": [
      "1000 loops, best of 3: 16.1 µs per loop\n"
     ]
    }
   ],
   "source": [
    "%timeit -n 1000 fun_get_vector(x, i, j) "
   ]
  },
  {
   "cell_type": "markdown",
   "metadata": {},
   "source": [
    "## (m, n) = (1000, 1000), |i| = 700"
   ]
  },
  {
   "cell_type": "code",
   "execution_count": 70,
   "metadata": {
    "collapsed": false
   },
   "outputs": [],
   "source": [
    "m, n = 1000, 1000\n",
    "len_i = 700\n",
    "np.random.seed(12)\n",
    "x = np.random.rand(m, n)*5\n",
    "i, j = np.random.randint(m, size=len_i), np.random.randint(n, size=len_i) "
   ]
  },
  {
   "cell_type": "code",
   "execution_count": 71,
   "metadata": {
    "collapsed": false
   },
   "outputs": [
    {
     "name": "stdout",
     "output_type": "stream",
     "text": [
      "1000 loops, best of 3: 485 µs per loop\n"
     ]
    }
   ],
   "source": [
    "%timeit -n 1000 get_vector(x, i, j) "
   ]
  },
  {
   "cell_type": "code",
   "execution_count": 72,
   "metadata": {
    "collapsed": false
   },
   "outputs": [
    {
     "name": "stdout",
     "output_type": "stream",
     "text": [
      "1000 loops, best of 3: 8.98 µs per loop\n"
     ]
    }
   ],
   "source": [
    "%timeit -n 1000 vec_get_vector(x, i, j) "
   ]
  },
  {
   "cell_type": "code",
   "execution_count": 73,
   "metadata": {
    "collapsed": false
   },
   "outputs": [
    {
     "name": "stdout",
     "output_type": "stream",
     "text": [
      "1000 loops, best of 3: 358 µs per loop\n"
     ]
    }
   ],
   "source": [
    "%timeit -n 1000 fun_get_vector(x, i, j) "
   ]
  },
  {
   "cell_type": "markdown",
   "metadata": {},
   "source": [
    "## (m, n) = (5000, 7000), |i| = 2000"
   ]
  },
  {
   "cell_type": "code",
   "execution_count": 74,
   "metadata": {
    "collapsed": false
   },
   "outputs": [],
   "source": [
    "m, n = 5000, 7000\n",
    "len_i = 2000\n",
    "np.random.seed(12)\n",
    "x = np.random.rand(m, n)*5\n",
    "i, j = np.random.randint(m, size=len_i), np.random.randint(n, size=len_i) "
   ]
  },
  {
   "cell_type": "code",
   "execution_count": 75,
   "metadata": {
    "collapsed": false
   },
   "outputs": [
    {
     "name": "stdout",
     "output_type": "stream",
     "text": [
      "1000 loops, best of 3: 1.23 ms per loop\n"
     ]
    }
   ],
   "source": [
    "%timeit -n 1000 get_vector(x, i, j) "
   ]
  },
  {
   "cell_type": "code",
   "execution_count": 76,
   "metadata": {
    "collapsed": false
   },
   "outputs": [
    {
     "name": "stdout",
     "output_type": "stream",
     "text": [
      "1000 loops, best of 3: 42.1 µs per loop\n"
     ]
    }
   ],
   "source": [
    "%timeit -n 1000 vec_get_vector(x, i, j) "
   ]
  },
  {
   "cell_type": "code",
   "execution_count": 77,
   "metadata": {
    "collapsed": false
   },
   "outputs": [
    {
     "name": "stdout",
     "output_type": "stream",
     "text": [
      "1000 loops, best of 3: 922 µs per loop\n"
     ]
    }
   ],
   "source": [
    "%timeit -n 1000 fun_get_vector(x, i, j) "
   ]
  },
  {
   "cell_type": "markdown",
   "metadata": {},
   "source": [
    "#Задача 3"
   ]
  },
  {
   "cell_type": "code",
   "execution_count": 78,
   "metadata": {
    "collapsed": true
   },
   "outputs": [],
   "source": [
    "from problem_3 import equal_multiset, vec_equal_multiset, fun_equal_multiset"
   ]
  },
  {
   "cell_type": "markdown",
   "metadata": {},
   "source": [
    "## mulset(i) == mulset(j)"
   ]
  },
  {
   "cell_type": "markdown",
   "metadata": {},
   "source": [
    "###|i| = 30"
   ]
  },
  {
   "cell_type": "code",
   "execution_count": 79,
   "metadata": {
    "collapsed": false
   },
   "outputs": [],
   "source": [
    "vlen = 30 \n",
    "np.random.seed(20)\n",
    "mset = np.random.rand(vlen)\n",
    "np.random.seed(10)\n",
    "np.random.shuffle(mset)\n",
    "i = np.copy(mset)\n",
    "np.random.seed(15)\n",
    "np.random.shuffle(mset)\n",
    "j = mset"
   ]
  },
  {
   "cell_type": "code",
   "execution_count": 80,
   "metadata": {
    "collapsed": false
   },
   "outputs": [
    {
     "name": "stdout",
     "output_type": "stream",
     "text": [
      "1000 loops, best of 3: 19.2 µs per loop\n"
     ]
    }
   ],
   "source": [
    "%timeit -n 1000 equal_multiset(i, j) "
   ]
  },
  {
   "cell_type": "code",
   "execution_count": 81,
   "metadata": {
    "collapsed": false
   },
   "outputs": [
    {
     "name": "stdout",
     "output_type": "stream",
     "text": [
      "1000 loops, best of 3: 18.3 µs per loop\n"
     ]
    }
   ],
   "source": [
    "%timeit -n 1000 vec_equal_multiset(i, j) "
   ]
  },
  {
   "cell_type": "code",
   "execution_count": 82,
   "metadata": {
    "collapsed": false
   },
   "outputs": [
    {
     "name": "stdout",
     "output_type": "stream",
     "text": [
      "1000 loops, best of 3: 32.9 µs per loop\n"
     ]
    }
   ],
   "source": [
    "%timeit -n 1000 fun_equal_multiset(i, j) "
   ]
  },
  {
   "cell_type": "markdown",
   "metadata": {},
   "source": [
    "###|i| = 1000"
   ]
  },
  {
   "cell_type": "code",
   "execution_count": 83,
   "metadata": {
    "collapsed": false
   },
   "outputs": [],
   "source": [
    "vlen = 1000 \n",
    "np.random.seed(20)\n",
    "mset = np.random.rand(vlen)\n",
    "np.random.seed(10)\n",
    "np.random.shuffle(mset)\n",
    "i = np.copy(mset)\n",
    "np.random.seed(15)\n",
    "np.random.shuffle(mset)\n",
    "j = mset"
   ]
  },
  {
   "cell_type": "code",
   "execution_count": 84,
   "metadata": {
    "collapsed": false
   },
   "outputs": [
    {
     "name": "stdout",
     "output_type": "stream",
     "text": [
      "1000 loops, best of 3: 758 µs per loop\n"
     ]
    }
   ],
   "source": [
    "%timeit -n 1000 equal_multiset(i, j) "
   ]
  },
  {
   "cell_type": "code",
   "execution_count": 85,
   "metadata": {
    "collapsed": false
   },
   "outputs": [
    {
     "name": "stdout",
     "output_type": "stream",
     "text": [
      "1000 loops, best of 3: 94.1 µs per loop\n"
     ]
    }
   ],
   "source": [
    "%timeit -n 1000 vec_equal_multiset(i, j) "
   ]
  },
  {
   "cell_type": "code",
   "execution_count": 86,
   "metadata": {
    "collapsed": false
   },
   "outputs": [
    {
     "name": "stdout",
     "output_type": "stream",
     "text": [
      "1000 loops, best of 3: 993 µs per loop\n"
     ]
    }
   ],
   "source": [
    "%timeit -n 1000 fun_equal_multiset(i, j) "
   ]
  },
  {
   "cell_type": "markdown",
   "metadata": {},
   "source": [
    "###|i| = 10000"
   ]
  },
  {
   "cell_type": "code",
   "execution_count": 87,
   "metadata": {
    "collapsed": false
   },
   "outputs": [],
   "source": [
    "vlen = 10000 \n",
    "np.random.seed(20)\n",
    "mset = np.random.rand(vlen)\n",
    "np.random.seed(10)\n",
    "np.random.shuffle(mset)\n",
    "i = np.copy(mset)\n",
    "np.random.seed(15)\n",
    "np.random.shuffle(mset)\n",
    "j = mset"
   ]
  },
  {
   "cell_type": "code",
   "execution_count": 88,
   "metadata": {
    "collapsed": false
   },
   "outputs": [
    {
     "name": "stdout",
     "output_type": "stream",
     "text": [
      "1000 loops, best of 3: 10.2 ms per loop\n"
     ]
    }
   ],
   "source": [
    "%timeit -n 1000 equal_multiset(i, j) "
   ]
  },
  {
   "cell_type": "code",
   "execution_count": 89,
   "metadata": {
    "collapsed": false
   },
   "outputs": [
    {
     "name": "stdout",
     "output_type": "stream",
     "text": [
      "1000 loops, best of 3: 1.15 ms per loop\n"
     ]
    }
   ],
   "source": [
    "%timeit -n 1000 vec_equal_multiset(i, j)"
   ]
  },
  {
   "cell_type": "code",
   "execution_count": 90,
   "metadata": {
    "collapsed": false
   },
   "outputs": [
    {
     "name": "stdout",
     "output_type": "stream",
     "text": [
      "1000 loops, best of 3: 10.8 ms per loop\n"
     ]
    }
   ],
   "source": [
    "%timeit -n 1000 fun_equal_multiset(i, j) "
   ]
  },
  {
   "cell_type": "markdown",
   "metadata": {},
   "source": [
    "## multiset(i) != multiset(j)"
   ]
  },
  {
   "cell_type": "markdown",
   "metadata": {},
   "source": [
    "###|i| = 30"
   ]
  },
  {
   "cell_type": "code",
   "execution_count": 91,
   "metadata": {
    "collapsed": false
   },
   "outputs": [],
   "source": [
    "vlen = 30\n",
    "np.random.seed(12)\n",
    "i = np.random.rand(vlen)\n",
    "np.random.seed(6)\n",
    "j = np.random.rand(vlen)\n"
   ]
  },
  {
   "cell_type": "code",
   "execution_count": 92,
   "metadata": {
    "collapsed": false
   },
   "outputs": [
    {
     "name": "stdout",
     "output_type": "stream",
     "text": [
      "1000 loops, best of 3: 17.3 µs per loop\n"
     ]
    }
   ],
   "source": [
    "%timeit -n 1000 equal_multiset(i, j) "
   ]
  },
  {
   "cell_type": "code",
   "execution_count": 93,
   "metadata": {
    "collapsed": false
   },
   "outputs": [
    {
     "name": "stdout",
     "output_type": "stream",
     "text": [
      "1000 loops, best of 3: 18.6 µs per loop\n"
     ]
    }
   ],
   "source": [
    "%timeit -n 1000 vec_equal_multiset(i, j)"
   ]
  },
  {
   "cell_type": "code",
   "execution_count": 94,
   "metadata": {
    "collapsed": false
   },
   "outputs": [
    {
     "name": "stdout",
     "output_type": "stream",
     "text": [
      "1000 loops, best of 3: 35.5 µs per loop\n"
     ]
    }
   ],
   "source": [
    "%timeit -n 1000 fun_equal_multiset(i, j) "
   ]
  },
  {
   "cell_type": "markdown",
   "metadata": {},
   "source": [
    "###|i| = 1000"
   ]
  },
  {
   "cell_type": "code",
   "execution_count": 95,
   "metadata": {
    "collapsed": false
   },
   "outputs": [],
   "source": [
    "vlen = 1000\n",
    "np.random.seed(12)\n",
    "i = np.random.rand(vlen)\n",
    "np.random.seed(6)\n",
    "j = np.random.rand(vlen)"
   ]
  },
  {
   "cell_type": "code",
   "execution_count": 96,
   "metadata": {
    "collapsed": false
   },
   "outputs": [
    {
     "name": "stdout",
     "output_type": "stream",
     "text": [
      "1000 loops, best of 3: 632 µs per loop\n"
     ]
    }
   ],
   "source": [
    "%timeit -n 1000 equal_multiset(i, j) "
   ]
  },
  {
   "cell_type": "code",
   "execution_count": 97,
   "metadata": {
    "collapsed": false
   },
   "outputs": [
    {
     "name": "stdout",
     "output_type": "stream",
     "text": [
      "1000 loops, best of 3: 87.2 µs per loop\n"
     ]
    }
   ],
   "source": [
    "%timeit -n 1000 vec_equal_multiset(i, j)"
   ]
  },
  {
   "cell_type": "code",
   "execution_count": 98,
   "metadata": {
    "collapsed": false
   },
   "outputs": [
    {
     "name": "stdout",
     "output_type": "stream",
     "text": [
      "1000 loops, best of 3: 1.05 ms per loop\n"
     ]
    }
   ],
   "source": [
    "%timeit -n 1000 fun_equal_multiset(i, j) "
   ]
  },
  {
   "cell_type": "markdown",
   "metadata": {},
   "source": [
    "|i| = 10000"
   ]
  },
  {
   "cell_type": "code",
   "execution_count": 99,
   "metadata": {
    "collapsed": false
   },
   "outputs": [],
   "source": [
    "vlen = 10000\n",
    "np.random.seed(12)\n",
    "i = np.random.rand(vlen)\n",
    "np.random.seed(6)\n",
    "j = np.random.rand(vlen)"
   ]
  },
  {
   "cell_type": "code",
   "execution_count": 100,
   "metadata": {
    "collapsed": false
   },
   "outputs": [
    {
     "name": "stdout",
     "output_type": "stream",
     "text": [
      "1000 loops, best of 3: 8.62 ms per loop\n"
     ]
    }
   ],
   "source": [
    "%timeit -n 1000 equal_multiset(i, j) "
   ]
  },
  {
   "cell_type": "code",
   "execution_count": 101,
   "metadata": {
    "collapsed": false
   },
   "outputs": [
    {
     "name": "stdout",
     "output_type": "stream",
     "text": [
      "1000 loops, best of 3: 1.1 ms per loop\n"
     ]
    }
   ],
   "source": [
    "%timeit -n 1000 vec_equal_multiset(i, j)"
   ]
  },
  {
   "cell_type": "code",
   "execution_count": 102,
   "metadata": {
    "collapsed": false
   },
   "outputs": [
    {
     "name": "stdout",
     "output_type": "stream",
     "text": [
      "1000 loops, best of 3: 11 ms per loop\n"
     ]
    }
   ],
   "source": [
    "%timeit -n 1000 fun_equal_multiset(i, j) "
   ]
  },
  {
   "cell_type": "markdown",
   "metadata": {},
   "source": [
    "#Задача 4"
   ]
  },
  {
   "cell_type": "code",
   "execution_count": 103,
   "metadata": {
    "collapsed": false
   },
   "outputs": [],
   "source": [
    "from problem_4 import maximum_in_front_of_zero, fun_maximum_in_front_of_zero, vec_maximum_in_front_of_zero"
   ]
  },
  {
   "cell_type": "markdown",
   "metadata": {},
   "source": [
    "## |v| = 30"
   ]
  },
  {
   "cell_type": "code",
   "execution_count": 104,
   "metadata": {
    "collapsed": false
   },
   "outputs": [],
   "source": [
    "vlen = 30\n",
    "num_zeros = 10\n",
    "np.random.seed(vlen)\n",
    "v = np.random.rand(vlen)\n",
    "zeros = np.random.randint(vlen, size=num_zeros)\n",
    "v[zeros] = 0"
   ]
  },
  {
   "cell_type": "code",
   "execution_count": 105,
   "metadata": {
    "collapsed": false
   },
   "outputs": [
    {
     "name": "stdout",
     "output_type": "stream",
     "text": [
      "1000 loops, best of 3: 9.23 µs per loop\n"
     ]
    }
   ],
   "source": [
    "%timeit -n 1000 maximum_in_front_of_zero(v)"
   ]
  },
  {
   "cell_type": "code",
   "execution_count": 106,
   "metadata": {
    "collapsed": false
   },
   "outputs": [
    {
     "name": "stdout",
     "output_type": "stream",
     "text": [
      "1000 loops, best of 3: 21.7 µs per loop\n"
     ]
    }
   ],
   "source": [
    "%timeit -n 1000 vec_maximum_in_front_of_zero(v)"
   ]
  },
  {
   "cell_type": "code",
   "execution_count": 107,
   "metadata": {
    "collapsed": false
   },
   "outputs": [
    {
     "name": "stdout",
     "output_type": "stream",
     "text": [
      "1000 loops, best of 3: 15.3 µs per loop\n"
     ]
    }
   ],
   "source": [
    "%timeit -n 1000 fun_maximum_in_front_of_zero(v)"
   ]
  },
  {
   "cell_type": "markdown",
   "metadata": {},
   "source": [
    "##|v| = 1000"
   ]
  },
  {
   "cell_type": "code",
   "execution_count": 108,
   "metadata": {
    "collapsed": false
   },
   "outputs": [
    {
     "name": "stdout",
     "output_type": "stream",
     "text": [
      "0.999901805255\n",
      "0.999901805255\n",
      "0.999901805255\n"
     ]
    }
   ],
   "source": [
    "vlen = 1000\n",
    "num_zeros = 100\n",
    "np.random.seed(vlen)\n",
    "v = np.random.rand(vlen)\n",
    "zeros = np.random.randint(vlen, size=num_zeros)\n",
    "v[zeros] = 0\n",
    "print(maximum_in_front_of_zero(v))\n",
    "print(vec_maximum_in_front_of_zero(v))\n",
    "print(fun_maximum_in_front_of_zero(v))"
   ]
  },
  {
   "cell_type": "code",
   "execution_count": 109,
   "metadata": {
    "collapsed": false
   },
   "outputs": [
    {
     "name": "stdout",
     "output_type": "stream",
     "text": [
      "1000 loops, best of 3: 259 µs per loop\n"
     ]
    }
   ],
   "source": [
    "%timeit -n 1000 maximum_in_front_of_zero(v)"
   ]
  },
  {
   "cell_type": "code",
   "execution_count": 110,
   "metadata": {
    "collapsed": false
   },
   "outputs": [
    {
     "name": "stdout",
     "output_type": "stream",
     "text": [
      "1000 loops, best of 3: 28.9 µs per loop\n"
     ]
    }
   ],
   "source": [
    "%timeit -n 1000 vec_maximum_in_front_of_zero(v)"
   ]
  },
  {
   "cell_type": "code",
   "execution_count": 111,
   "metadata": {
    "collapsed": false
   },
   "outputs": [
    {
     "name": "stdout",
     "output_type": "stream",
     "text": [
      "1000 loops, best of 3: 292 µs per loop\n"
     ]
    }
   ],
   "source": [
    "%timeit -n 1000 fun_maximum_in_front_of_zero(v)"
   ]
  },
  {
   "cell_type": "markdown",
   "metadata": {},
   "source": [
    "##|v|=10000"
   ]
  },
  {
   "cell_type": "code",
   "execution_count": 112,
   "metadata": {
    "collapsed": false
   },
   "outputs": [
    {
     "name": "stdout",
     "output_type": "stream",
     "text": [
      "0.998851867537\n",
      "0.998851867537\n",
      "0.998851867537\n"
     ]
    }
   ],
   "source": [
    "vlen = 10000\n",
    "num_zeros = 2000\n",
    "np.random.seed(vlen)\n",
    "v = np.random.rand(vlen)\n",
    "zeros = np.random.randint(vlen, size=num_zeros)\n",
    "v[zeros] = 0\n",
    "print(maximum_in_front_of_zero(v))\n",
    "print(vec_maximum_in_front_of_zero(v))\n",
    "print(fun_maximum_in_front_of_zero(v))"
   ]
  },
  {
   "cell_type": "code",
   "execution_count": 113,
   "metadata": {
    "collapsed": false
   },
   "outputs": [
    {
     "name": "stdout",
     "output_type": "stream",
     "text": [
      "1000 loops, best of 3: 2.29 ms per loop\n"
     ]
    }
   ],
   "source": [
    "%timeit -n 1000 maximum_in_front_of_zero(v)"
   ]
  },
  {
   "cell_type": "code",
   "execution_count": 114,
   "metadata": {
    "collapsed": false
   },
   "outputs": [
    {
     "name": "stdout",
     "output_type": "stream",
     "text": [
      "1000 loops, best of 3: 108 µs per loop\n"
     ]
    }
   ],
   "source": [
    "%timeit -n 1000 vec_maximum_in_front_of_zero(v)"
   ]
  },
  {
   "cell_type": "code",
   "execution_count": 115,
   "metadata": {
    "collapsed": false
   },
   "outputs": [
    {
     "name": "stdout",
     "output_type": "stream",
     "text": [
      "1000 loops, best of 3: 3.32 ms per loop\n"
     ]
    }
   ],
   "source": [
    "%timeit -n 1000 fun_maximum_in_front_of_zero(v)"
   ]
  },
  {
   "cell_type": "markdown",
   "metadata": {},
   "source": [
    "#Задача 5"
   ]
  },
  {
   "cell_type": "code",
   "execution_count": 116,
   "metadata": {
    "collapsed": false
   },
   "outputs": [],
   "source": [
    "import problem_5\n",
    "reload(problem_5)\n",
    "from problem_5 import add_channels, vec_add_channels, fun_add_channels"
   ]
  },
  {
   "cell_type": "markdown",
   "metadata": {},
   "source": [
    "## Img 1"
   ]
  },
  {
   "cell_type": "code",
   "execution_count": 117,
   "metadata": {
    "collapsed": false
   },
   "outputs": [
    {
     "name": "stdout",
     "output_type": "stream",
     "text": [
      "(960, 804, 3)\n"
     ]
    }
   ],
   "source": [
    "pic = imread(\"test_img.png\")\n",
    "pic = pic[:, :, :3]\n",
    "print(pic.shape)"
   ]
  },
  {
   "cell_type": "code",
   "execution_count": 118,
   "metadata": {
    "collapsed": false
   },
   "outputs": [],
   "source": [
    "imsave(\"test_img_bw.png\", add_channels(pic, np.array([0.299, 0.587, 0.114])))\n",
    "imsave(\"test_img_bw_vec.png\", vec_add_channels(pic, np.array([0.299, 0.587, 0.114])))\n",
    "imsave(\"test_img_bw_fun.png\", fun_add_channels(pic, np.array([0.299, 0.587, 0.114])))"
   ]
  },
  {
   "cell_type": "code",
   "execution_count": 119,
   "metadata": {
    "collapsed": false
   },
   "outputs": [
    {
     "name": "stdout",
     "output_type": "stream",
     "text": [
      "10 loops, best of 3: 1.54 s per loop\n"
     ]
    }
   ],
   "source": [
    "% timeit -n 10 add_channels(pic, np.array([0.299, 0.587, 0.114]))"
   ]
  },
  {
   "cell_type": "code",
   "execution_count": 120,
   "metadata": {
    "collapsed": false
   },
   "outputs": [
    {
     "name": "stdout",
     "output_type": "stream",
     "text": [
      "100 loops, best of 3: 46.2 ms per loop\n"
     ]
    }
   ],
   "source": [
    "% timeit -n 100 vec_add_channels(pic, np.array([0.299, 0.587, 0.114]))"
   ]
  },
  {
   "cell_type": "code",
   "execution_count": 121,
   "metadata": {
    "collapsed": false
   },
   "outputs": [
    {
     "name": "stdout",
     "output_type": "stream",
     "text": [
      "100 loops, best of 3: 13.3 ms per loop\n"
     ]
    }
   ],
   "source": [
    "% timeit -n 100 fun_add_channels(pic, np.array([0.299, 0.587, 0.114]))"
   ]
  },
  {
   "cell_type": "markdown",
   "metadata": {},
   "source": [
    "## Img 2"
   ]
  },
  {
   "cell_type": "code",
   "execution_count": 122,
   "metadata": {
    "collapsed": false
   },
   "outputs": [
    {
     "name": "stdout",
     "output_type": "stream",
     "text": [
      "(481, 409, 3)\n"
     ]
    }
   ],
   "source": [
    "pic = imread(\"test_img_2.png\")\n",
    "pic = pic[:, :, :3]\n",
    "print(pic.shape)"
   ]
  },
  {
   "cell_type": "code",
   "execution_count": 123,
   "metadata": {
    "collapsed": true
   },
   "outputs": [],
   "source": [
    "imsave(\"test_img_bw.png\", add_channels(pic, np.array([0.299, 0.587, 0.114])))\n",
    "imsave(\"test_img_bw_vec.png\", vec_add_channels(pic, np.array([0.299, 0.587, 0.114])))\n",
    "imsave(\"test_img_bw_fun.png\", fun_add_channels(pic, np.array([0.299, 0.587, 0.114])))"
   ]
  },
  {
   "cell_type": "code",
   "execution_count": 124,
   "metadata": {
    "collapsed": false
   },
   "outputs": [
    {
     "name": "stdout",
     "output_type": "stream",
     "text": [
      "10 loops, best of 3: 345 ms per loop\n"
     ]
    }
   ],
   "source": [
    "% timeit -n 10 add_channels(pic, np.array([0.299, 0.587, 0.114]))"
   ]
  },
  {
   "cell_type": "code",
   "execution_count": 125,
   "metadata": {
    "collapsed": false
   },
   "outputs": [
    {
     "name": "stdout",
     "output_type": "stream",
     "text": [
      "100 loops, best of 3: 12.2 ms per loop\n"
     ]
    }
   ],
   "source": [
    "% timeit -n 100 vec_add_channels(pic, np.array([0.299, 0.587, 0.114]))"
   ]
  },
  {
   "cell_type": "code",
   "execution_count": 126,
   "metadata": {
    "collapsed": false
   },
   "outputs": [
    {
     "name": "stdout",
     "output_type": "stream",
     "text": [
      "100 loops, best of 3: 2.73 ms per loop\n"
     ]
    }
   ],
   "source": [
    "% timeit -n 100 fun_add_channels(pic, np.array([0.299, 0.587, 0.114]))"
   ]
  },
  {
   "cell_type": "markdown",
   "metadata": {},
   "source": [
    "## Img 3"
   ]
  },
  {
   "cell_type": "code",
   "execution_count": 127,
   "metadata": {
    "collapsed": false
   },
   "outputs": [
    {
     "name": "stdout",
     "output_type": "stream",
     "text": [
      "(1800, 2880, 3)\n"
     ]
    }
   ],
   "source": [
    "pic = imread(\"test_img_3.png\")\n",
    "pic = pic[:, :, :3]\n",
    "print(pic.shape)"
   ]
  },
  {
   "cell_type": "code",
   "execution_count": 128,
   "metadata": {
    "collapsed": true
   },
   "outputs": [],
   "source": [
    "imsave(\"test_img_bw.png\", add_channels(pic, np.array([0.299, 0.587, 0.114])))\n",
    "imsave(\"test_img_bw_vec.png\", vec_add_channels(pic, np.array([0.299, 0.587, 0.114])))\n",
    "imsave(\"test_img_bw_fun.png\", fun_add_channels(pic, np.array([0.299, 0.587, 0.114])))"
   ]
  },
  {
   "cell_type": "code",
   "execution_count": 129,
   "metadata": {
    "collapsed": false
   },
   "outputs": [
    {
     "name": "stdout",
     "output_type": "stream",
     "text": [
      "2 loops, best of 3: 10.5 s per loop\n"
     ]
    }
   ],
   "source": [
    "% timeit -n 2 add_channels(pic, np.array([0.299, 0.587, 0.114]))"
   ]
  },
  {
   "cell_type": "code",
   "execution_count": 130,
   "metadata": {
    "collapsed": false
   },
   "outputs": [
    {
     "name": "stdout",
     "output_type": "stream",
     "text": [
      "10 loops, best of 3: 292 ms per loop\n"
     ]
    }
   ],
   "source": [
    "% timeit -n 10 vec_add_channels(pic, np.array([0.299, 0.587, 0.114]))"
   ]
  },
  {
   "cell_type": "code",
   "execution_count": 131,
   "metadata": {
    "collapsed": false
   },
   "outputs": [
    {
     "name": "stdout",
     "output_type": "stream",
     "text": [
      "10 loops, best of 3: 86.1 ms per loop\n"
     ]
    }
   ],
   "source": [
    "% timeit -n 10 fun_add_channels(pic, np.array([0.299, 0.587, 0.114]))"
   ]
  },
  {
   "cell_type": "markdown",
   "metadata": {},
   "source": [
    "#Задача 6"
   ]
  },
  {
   "cell_type": "code",
   "execution_count": 132,
   "metadata": {
    "collapsed": false
   },
   "outputs": [],
   "source": [
    "from problem_6 import run_length_encoding, vec_run_length_encoding, fun_run_length_encoding"
   ]
  },
  {
   "cell_type": "code",
   "execution_count": 133,
   "metadata": {
    "collapsed": false
   },
   "outputs": [],
   "source": [
    "vlen = 30\n",
    "max_num = 8\n",
    "np.random.seed(vlen)\n",
    "v = np.random.randint(max_num, size=vlen)\n",
    "nv = run_length_encoding(v)\n",
    "vv = vec_run_length_encoding(v)\n",
    "fv = fun_run_length_encoding(v)"
   ]
  },
  {
   "cell_type": "code",
   "execution_count": 134,
   "metadata": {
    "collapsed": false
   },
   "outputs": [
    {
     "name": "stdout",
     "output_type": "stream",
     "text": [
      "1000 loops, best of 3: 21.5 µs per loop\n"
     ]
    }
   ],
   "source": [
    "%timeit -n 1000 run_length_encoding(v)"
   ]
  },
  {
   "cell_type": "code",
   "execution_count": 135,
   "metadata": {
    "collapsed": false
   },
   "outputs": [
    {
     "name": "stdout",
     "output_type": "stream",
     "text": [
      "1000 loops, best of 3: 72.6 µs per loop\n"
     ]
    }
   ],
   "source": [
    "%timeit -n 1000 vec_run_length_encoding(v)"
   ]
  },
  {
   "cell_type": "code",
   "execution_count": 136,
   "metadata": {
    "collapsed": false
   },
   "outputs": [
    {
     "name": "stdout",
     "output_type": "stream",
     "text": [
      "1000 loops, best of 3: 62.2 µs per loop\n"
     ]
    }
   ],
   "source": [
    "%timeit -n 1000 fun_run_length_encoding(v)"
   ]
  },
  {
   "cell_type": "markdown",
   "metadata": {},
   "source": [
    "##|v| = 1000"
   ]
  },
  {
   "cell_type": "code",
   "execution_count": 137,
   "metadata": {
    "collapsed": false
   },
   "outputs": [],
   "source": [
    "vlen = 1000\n",
    "max_num = 20\n",
    "np.random.seed(vlen)\n",
    "v = np.random.randint(max_num, size=vlen)\n",
    "nv = run_length_encoding(v)\n",
    "vv = vec_run_length_encoding(v)\n",
    "fv = fun_run_length_encoding(v)"
   ]
  },
  {
   "cell_type": "code",
   "execution_count": 138,
   "metadata": {
    "collapsed": false
   },
   "outputs": [
    {
     "name": "stdout",
     "output_type": "stream",
     "text": [
      "1000 loops, best of 3: 575 µs per loop\n"
     ]
    }
   ],
   "source": [
    "%timeit -n 1000 run_length_encoding(v)"
   ]
  },
  {
   "cell_type": "code",
   "execution_count": 139,
   "metadata": {
    "collapsed": false
   },
   "outputs": [
    {
     "name": "stdout",
     "output_type": "stream",
     "text": [
      "1000 loops, best of 3: 112 µs per loop\n"
     ]
    }
   ],
   "source": [
    "%timeit -n 1000 vec_run_length_encoding(v)"
   ]
  },
  {
   "cell_type": "code",
   "execution_count": 140,
   "metadata": {
    "collapsed": false
   },
   "outputs": [
    {
     "name": "stdout",
     "output_type": "stream",
     "text": [
      "1000 loops, best of 3: 1.67 ms per loop\n"
     ]
    }
   ],
   "source": [
    "%timeit -n 1000 fun_run_length_encoding(v)"
   ]
  },
  {
   "cell_type": "markdown",
   "metadata": {},
   "source": [
    "##|v| = 10000"
   ]
  },
  {
   "cell_type": "code",
   "execution_count": 141,
   "metadata": {
    "collapsed": false
   },
   "outputs": [],
   "source": [
    "vlen = 10000\n",
    "max_num = 500\n",
    "np.random.seed(vlen)\n",
    "v = np.random.randint(max_num, size=vlen)\n",
    "nv = run_length_encoding(v)\n",
    "vv = vec_run_length_encoding(v)\n",
    "fv = fun_run_length_encoding(v)"
   ]
  },
  {
   "cell_type": "code",
   "execution_count": 142,
   "metadata": {
    "collapsed": false
   },
   "outputs": [
    {
     "name": "stdout",
     "output_type": "stream",
     "text": [
      "1000 loops, best of 3: 6.02 ms per loop\n"
     ]
    }
   ],
   "source": [
    "%timeit -n 1000 run_length_encoding(v)"
   ]
  },
  {
   "cell_type": "code",
   "execution_count": 143,
   "metadata": {
    "collapsed": false
   },
   "outputs": [
    {
     "name": "stdout",
     "output_type": "stream",
     "text": [
      "1000 loops, best of 3: 378 µs per loop\n"
     ]
    }
   ],
   "source": [
    "%timeit -n 1000 vec_run_length_encoding(v)"
   ]
  },
  {
   "cell_type": "code",
   "execution_count": 144,
   "metadata": {
    "collapsed": false
   },
   "outputs": [
    {
     "name": "stdout",
     "output_type": "stream",
     "text": [
      "1000 loops, best of 3: 16.4 ms per loop\n"
     ]
    }
   ],
   "source": [
    "%timeit -n 1000 fun_run_length_encoding(v)"
   ]
  },
  {
   "cell_type": "markdown",
   "metadata": {},
   "source": [
    "#Problem 7"
   ]
  },
  {
   "cell_type": "code",
   "execution_count": 145,
   "metadata": {
    "collapsed": false
   },
   "outputs": [],
   "source": [
    "from problem_7 import find_pairwise_distances, vec_find_pairwise_distances, fun_find_pairwise_distances"
   ]
  },
  {
   "cell_type": "markdown",
   "metadata": {},
   "source": [
    "## d, m, n = 2, 5, 10"
   ]
  },
  {
   "cell_type": "code",
   "execution_count": 146,
   "metadata": {
    "collapsed": false
   },
   "outputs": [],
   "source": [
    "d, m, n = 2, 5, 10\n",
    "np.random.seed(d)\n",
    "x = np.random.rand(m, d)\n",
    "y = np.random.rand(n, d)\n",
    "true_ans = spd.cdist(x, y)"
   ]
  },
  {
   "cell_type": "code",
   "execution_count": 147,
   "metadata": {
    "collapsed": false
   },
   "outputs": [
    {
     "name": "stdout",
     "output_type": "stream",
     "text": [
      "1000 loops, best of 3: 264 µs per loop\n"
     ]
    }
   ],
   "source": [
    "%timeit -n 1000 find_pairwise_distances(x, y)"
   ]
  },
  {
   "cell_type": "code",
   "execution_count": 148,
   "metadata": {
    "collapsed": false
   },
   "outputs": [
    {
     "name": "stdout",
     "output_type": "stream",
     "text": [
      "1000 loops, best of 3: 25.5 µs per loop\n"
     ]
    }
   ],
   "source": [
    "%timeit -n 1000 vec_find_pairwise_distances(x, y)"
   ]
  },
  {
   "cell_type": "code",
   "execution_count": 149,
   "metadata": {
    "collapsed": false
   },
   "outputs": [
    {
     "name": "stdout",
     "output_type": "stream",
     "text": [
      "1000 loops, best of 3: 687 µs per loop\n"
     ]
    }
   ],
   "source": [
    "%timeit -n 1000 fun_find_pairwise_distances(x, y)"
   ]
  },
  {
   "cell_type": "code",
   "execution_count": 150,
   "metadata": {
    "collapsed": false
   },
   "outputs": [
    {
     "name": "stdout",
     "output_type": "stream",
     "text": [
      "1000 loops, best of 3: 27.2 µs per loop\n"
     ]
    }
   ],
   "source": [
    "%timeit -n 1000 spd.cdist(x, y)"
   ]
  },
  {
   "cell_type": "markdown",
   "metadata": {},
   "source": [
    "## d, m, n = 30, 50, 100"
   ]
  },
  {
   "cell_type": "code",
   "execution_count": 151,
   "metadata": {
    "collapsed": false
   },
   "outputs": [],
   "source": [
    "d, m, n = 30, 100, 50\n",
    "np.random.seed(d)\n",
    "x = np.random.rand(m, d)\n",
    "y = np.random.rand(n, d)"
   ]
  },
  {
   "cell_type": "code",
   "execution_count": 152,
   "metadata": {
    "collapsed": false
   },
   "outputs": [
    {
     "name": "stdout",
     "output_type": "stream",
     "text": [
      "100 loops, best of 3: 158 ms per loop\n"
     ]
    }
   ],
   "source": [
    "%timeit -n 100 find_pairwise_distances(x, y)"
   ]
  },
  {
   "cell_type": "code",
   "execution_count": 153,
   "metadata": {
    "collapsed": false
   },
   "outputs": [
    {
     "name": "stdout",
     "output_type": "stream",
     "text": [
      "100 loops, best of 3: 891 µs per loop\n"
     ]
    }
   ],
   "source": [
    "%timeit -n 100 vec_find_pairwise_distances(x, y)"
   ]
  },
  {
   "cell_type": "code",
   "execution_count": 154,
   "metadata": {
    "collapsed": false
   },
   "outputs": [
    {
     "name": "stdout",
     "output_type": "stream",
     "text": [
      "100 loops, best of 3: 59.9 ms per loop\n"
     ]
    }
   ],
   "source": [
    "%timeit -n 100 fun_find_pairwise_distances(x, y)"
   ]
  },
  {
   "cell_type": "code",
   "execution_count": 155,
   "metadata": {
    "collapsed": false
   },
   "outputs": [
    {
     "name": "stdout",
     "output_type": "stream",
     "text": [
      "100 loops, best of 3: 199 µs per loop\n"
     ]
    }
   ],
   "source": [
    "%timeit -n 100 spd.cdist(x, y)"
   ]
  },
  {
   "cell_type": "markdown",
   "metadata": {},
   "source": [
    "## d, m, n = 100, 500, 1000"
   ]
  },
  {
   "cell_type": "code",
   "execution_count": 156,
   "metadata": {
    "collapsed": false
   },
   "outputs": [],
   "source": [
    "d, m, n = 100, 500, 1000\n",
    "np.random.seed(d)\n",
    "x = np.random.rand(m, d)\n",
    "y = np.random.rand(n, d)"
   ]
  },
  {
   "cell_type": "code",
   "execution_count": 157,
   "metadata": {
    "collapsed": false
   },
   "outputs": [
    {
     "name": "stdout",
     "output_type": "stream",
     "text": [
      "2 loops, best of 3: 52.9 s per loop\n"
     ]
    }
   ],
   "source": [
    "%timeit -n 2 find_pairwise_distances(x, y)"
   ]
  },
  {
   "cell_type": "code",
   "execution_count": 158,
   "metadata": {
    "collapsed": false
   },
   "outputs": [
    {
     "name": "stdout",
     "output_type": "stream",
     "text": [
      "10 loops, best of 3: 490 ms per loop\n"
     ]
    }
   ],
   "source": [
    "%timeit -n 10 vec_find_pairwise_distances(x, y)"
   ]
  },
  {
   "cell_type": "code",
   "execution_count": 159,
   "metadata": {
    "collapsed": false
   },
   "outputs": [
    {
     "name": "stdout",
     "output_type": "stream",
     "text": [
      "10 loops, best of 3: 5.55 s per loop\n"
     ]
    }
   ],
   "source": [
    "%timeit -n 10 fun_find_pairwise_distances(x, y)"
   ]
  },
  {
   "cell_type": "code",
   "execution_count": 160,
   "metadata": {
    "collapsed": false
   },
   "outputs": [
    {
     "name": "stdout",
     "output_type": "stream",
     "text": [
      "10 loops, best of 3: 51 ms per loop\n"
     ]
    }
   ],
   "source": [
    "%timeit -n 10 spd.cdist(x, y)"
   ]
  },
  {
   "cell_type": "markdown",
   "metadata": {},
   "source": [
    "# Задание 8"
   ]
  },
  {
   "cell_type": "code",
   "execution_count": 161,
   "metadata": {
    "collapsed": false
   },
   "outputs": [],
   "source": [
    "import scipy.stats as stat\n",
    "from problem_8 import log_multivariate_normal_density, vec_log_multivariate_normal_density, fun_log_multivariate_normal_density"
   ]
  },
  {
   "cell_type": "markdown",
   "metadata": {},
   "source": [
    "##(d, n) = (30, 50)"
   ]
  },
  {
   "cell_type": "code",
   "execution_count": 162,
   "metadata": {
    "collapsed": false
   },
   "outputs": [],
   "source": [
    "d, n = 30, 50\n",
    "np.random.seed(d)\n",
    "mean_v = np.random.rand(d)\n",
    "A = np.random.rand(d, d)\n",
    "cov = A.dot(A.T)\n",
    "x = np.random.multivariate_normal(mean_v, cov, n)"
   ]
  },
  {
   "cell_type": "code",
   "execution_count": 163,
   "metadata": {
    "collapsed": false
   },
   "outputs": [
    {
     "name": "stdout",
     "output_type": "stream",
     "text": [
      "100 loops, best of 3: 35.9 ms per loop\n"
     ]
    }
   ],
   "source": [
    "%timeit -n 100 log_multivariate_normal_density(x, mean_v, cov)"
   ]
  },
  {
   "cell_type": "code",
   "execution_count": 164,
   "metadata": {
    "collapsed": false
   },
   "outputs": [
    {
     "name": "stdout",
     "output_type": "stream",
     "text": [
      "1000 loops, best of 3: 168 µs per loop\n"
     ]
    }
   ],
   "source": [
    "%timeit -n 1000 vec_log_multivariate_normal_density(x, mean_v, cov)"
   ]
  },
  {
   "cell_type": "code",
   "execution_count": 165,
   "metadata": {
    "collapsed": false
   },
   "outputs": [
    {
     "name": "stdout",
     "output_type": "stream",
     "text": [
      "1000 loops, best of 3: 1.12 ms per loop\n"
     ]
    }
   ],
   "source": [
    "%timeit -n 1000 fun_log_multivariate_normal_density(x, mean_v, cov)"
   ]
  },
  {
   "cell_type": "code",
   "execution_count": 166,
   "metadata": {
    "collapsed": false
   },
   "outputs": [
    {
     "name": "stdout",
     "output_type": "stream",
     "text": [
      "1000 loops, best of 3: 430 µs per loop\n"
     ]
    }
   ],
   "source": [
    "%timeit -n 1000 stat.multivariate_normal(mean_v, cov).logpdf(x)"
   ]
  },
  {
   "cell_type": "markdown",
   "metadata": {},
   "source": [
    "##(d, n) = (300, 100)"
   ]
  },
  {
   "cell_type": "code",
   "execution_count": 167,
   "metadata": {
    "collapsed": false
   },
   "outputs": [],
   "source": [
    "d, n = 300, 100\n",
    "np.random.seed(d)\n",
    "mean_v = np.random.rand(d)\n",
    "A = np.random.rand(d, d)\n",
    "cov = A.dot(A.T)\n",
    "x = np.random.multivariate_normal(mean_v, cov, n)"
   ]
  },
  {
   "cell_type": "code",
   "execution_count": 168,
   "metadata": {
    "collapsed": false
   },
   "outputs": [
    {
     "name": "stdout",
     "output_type": "stream",
     "text": [
      "2 loops, best of 3: 6.73 s per loop\n"
     ]
    }
   ],
   "source": [
    "%timeit -n 2 log_multivariate_normal_density(x, mean_v, cov)"
   ]
  },
  {
   "cell_type": "code",
   "execution_count": 169,
   "metadata": {
    "collapsed": false
   },
   "outputs": [
    {
     "name": "stdout",
     "output_type": "stream",
     "text": [
      "100 loops, best of 3: 6.91 ms per loop\n"
     ]
    }
   ],
   "source": [
    "%timeit -n 100 vec_log_multivariate_normal_density(x, mean_v, cov)"
   ]
  },
  {
   "cell_type": "code",
   "execution_count": 170,
   "metadata": {
    "collapsed": false
   },
   "outputs": [
    {
     "name": "stdout",
     "output_type": "stream",
     "text": [
      "10 loops, best of 3: 18.4 ms per loop\n"
     ]
    }
   ],
   "source": [
    "%timeit -n 10 fun_log_multivariate_normal_density(x, mean_v, cov)"
   ]
  },
  {
   "cell_type": "code",
   "execution_count": 171,
   "metadata": {
    "collapsed": false
   },
   "outputs": [
    {
     "name": "stdout",
     "output_type": "stream",
     "text": [
      "100 loops, best of 3: 19.3 ms per loop\n"
     ]
    }
   ],
   "source": [
    "%timeit -n 100 stat.multivariate_normal(mean_v, cov).logpdf(x)"
   ]
  },
  {
   "cell_type": "markdown",
   "metadata": {},
   "source": [
    "##(d, n) = (1000, 1000)"
   ]
  },
  {
   "cell_type": "code",
   "execution_count": 172,
   "metadata": {
    "collapsed": false
   },
   "outputs": [],
   "source": [
    "d, n = 1000, 1000\n",
    "np.random.seed(d)\n",
    "mean_v = np.random.rand(d)\n",
    "A = np.random.rand(d, d)\n",
    "cov = A.dot(A.T) + np.eye(d)\n",
    "x = np.random.multivariate_normal(mean_v, cov, n)"
   ]
  },
  {
   "cell_type": "code",
   "execution_count": 173,
   "metadata": {
    "collapsed": false
   },
   "outputs": [
    {
     "name": "stdout",
     "output_type": "stream",
     "text": [
      "10 loops, best of 3: 270 ms per loop\n"
     ]
    }
   ],
   "source": [
    "%timeit -n 10 vec_log_multivariate_normal_density(x, mean_v, cov)"
   ]
  },
  {
   "cell_type": "code",
   "execution_count": 174,
   "metadata": {
    "collapsed": false
   },
   "outputs": [
    {
     "name": "stdout",
     "output_type": "stream",
     "text": [
      "10 loops, best of 3: 365 ms per loop\n"
     ]
    }
   ],
   "source": [
    "%timeit -n 10 stat.multivariate_normal(mean_v, cov).logpdf(x)"
   ]
  },
  {
   "cell_type": "code",
   "execution_count": 175,
   "metadata": {
    "collapsed": false
   },
   "outputs": [
    {
     "name": "stdout",
     "output_type": "stream",
     "text": [
      "10 loops, best of 3: 621 ms per loop\n"
     ]
    }
   ],
   "source": [
    "%timeit -n 10 fun_log_multivariate_normal_density(x, mean_v, cov)"
   ]
  },
  {
   "cell_type": "code",
   "execution_count": null,
   "metadata": {
    "collapsed": true
   },
   "outputs": [],
   "source": []
  }
 ],
 "metadata": {
  "kernelspec": {
   "display_name": "Python 3",
   "language": "python",
   "name": "python3"
  },
  "language_info": {
   "codemirror_mode": {
    "name": "ipython",
    "version": 3
   },
   "file_extension": ".py",
   "mimetype": "text/x-python",
   "name": "python",
   "nbconvert_exporter": "python",
   "pygments_lexer": "ipython3",
   "version": "3.4.3"
  }
 },
 "nbformat": 4,
 "nbformat_minor": 0
}
